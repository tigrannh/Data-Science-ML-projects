{
  "nbformat": 4,
  "nbformat_minor": 0,
  "metadata": {
    "colab": {
      "name": "KerasMnist.ipynb",
      "provenance": [],
      "collapsed_sections": [],
      "authorship_tag": "ABX9TyNfazlwxdJ5BYd0JTGbp62X",
      "include_colab_link": true
    },
    "kernelspec": {
      "name": "python3",
      "display_name": "Python 3"
    },
    "language_info": {
      "name": "python"
    }
  },
  "cells": [
    {
      "cell_type": "markdown",
      "metadata": {
        "id": "view-in-github",
        "colab_type": "text"
      },
      "source": [
        "<a href=\"https://colab.research.google.com/github/tigrannh/Data-Science-ML-projects/blob/main/KerasMnist.ipynb\" target=\"_parent\"><img src=\"https://colab.research.google.com/assets/colab-badge.svg\" alt=\"Open In Colab\"/></a>"
      ]
    },
    {
      "cell_type": "code",
      "execution_count": null,
      "metadata": {
        "colab": {
          "base_uri": "https://localhost:8080/",
          "height": 36
        },
        "id": "kp9dIiwpuYru",
        "outputId": "8e605b01-14ff-4808-9783-aa7bd9e086f2"
      },
      "outputs": [
        {
          "output_type": "execute_result",
          "data": {
            "text/plain": [
              "'2.8.0'"
            ],
            "application/vnd.google.colaboratory.intrinsic+json": {
              "type": "string"
            }
          },
          "metadata": {},
          "execution_count": 41
        }
      ],
      "source": [
        "import tensorflow as tf\n",
        "tf.__version__"
      ]
    },
    {
      "cell_type": "code",
      "source": [
        "train, test = tf.keras.datasets.mnist.load_data()"
      ],
      "metadata": {
        "id": "g3VgHOVJutzC"
      },
      "execution_count": null,
      "outputs": []
    },
    {
      "cell_type": "code",
      "source": [
        "len(train)"
      ],
      "metadata": {
        "colab": {
          "base_uri": "https://localhost:8080/"
        },
        "id": "RlqrMVgiu1aW",
        "outputId": "bf3fcf41-ab2c-4987-cddd-dfc6e132b8ca"
      },
      "execution_count": null,
      "outputs": [
        {
          "output_type": "execute_result",
          "data": {
            "text/plain": [
              "2"
            ]
          },
          "metadata": {},
          "execution_count": 43
        }
      ]
    },
    {
      "cell_type": "code",
      "source": [
        "train[0].shape"
      ],
      "metadata": {
        "colab": {
          "base_uri": "https://localhost:8080/"
        },
        "id": "AnQSYTqJu7ow",
        "outputId": "0cb6152a-10db-4ae9-de94-2eb4affaf49f"
      },
      "execution_count": null,
      "outputs": [
        {
          "output_type": "execute_result",
          "data": {
            "text/plain": [
              "(60000, 28, 28)"
            ]
          },
          "metadata": {},
          "execution_count": 44
        }
      ]
    },
    {
      "cell_type": "code",
      "source": [
        "train[1].shape"
      ],
      "metadata": {
        "colab": {
          "base_uri": "https://localhost:8080/"
        },
        "id": "5a3qsAWbu93w",
        "outputId": "86473104-5e74-4e46-cee7-9938127f3f28"
      },
      "execution_count": null,
      "outputs": [
        {
          "output_type": "execute_result",
          "data": {
            "text/plain": [
              "(60000,)"
            ]
          },
          "metadata": {},
          "execution_count": 45
        }
      ]
    },
    {
      "cell_type": "code",
      "source": [
        "test[0].shape"
      ],
      "metadata": {
        "colab": {
          "base_uri": "https://localhost:8080/"
        },
        "id": "Gr6lpYTbu_ip",
        "outputId": "5b4fc41d-c2a3-49b8-c460-b04122e906f7"
      },
      "execution_count": null,
      "outputs": [
        {
          "output_type": "execute_result",
          "data": {
            "text/plain": [
              "(10000, 28, 28)"
            ]
          },
          "metadata": {},
          "execution_count": 46
        }
      ]
    },
    {
      "cell_type": "code",
      "source": [
        "import matplotlib.pyplot as plt\n",
        "import numpy as np"
      ],
      "metadata": {
        "id": "bzMOu6lzvCr5"
      },
      "execution_count": null,
      "outputs": []
    },
    {
      "cell_type": "code",
      "source": [
        "plt.imshow(train[0][2])"
      ],
      "metadata": {
        "colab": {
          "base_uri": "https://localhost:8080/",
          "height": 282
        },
        "id": "7HiTCoqbvLm2",
        "outputId": "e25e3a4f-c19a-4d09-c539-3c2695fcf8ca"
      },
      "execution_count": null,
      "outputs": [
        {
          "output_type": "execute_result",
          "data": {
            "text/plain": [
              "<matplotlib.image.AxesImage at 0x7f92d173a1d0>"
            ]
          },
          "metadata": {},
          "execution_count": 48
        },
        {
          "output_type": "display_data",
          "data": {
            "text/plain": [
              "<Figure size 432x288 with 1 Axes>"
            ],
            "image/png": "[encoded data removed]"
          },
          "metadata": {
            "needs_background": "light"
          }
        }
      ]
    },
    {
      "cell_type": "code",
      "source": [
        "x_train = np.reshape(train[0], (60000,-1))"
      ],
      "metadata": {
        "id": "tu0aLJJuvOxa"
      },
      "execution_count": null,
      "outputs": []
    },
    {
      "cell_type": "code",
      "source": [
        "x_train.shape"
      ],
      "metadata": {
        "colab": {
          "base_uri": "https://localhost:8080/"
        },
        "id": "IsiHIwdPvVBK",
        "outputId": "7bede1c9-988c-4785-f0a0-058e71b7ffe2"
      },
      "execution_count": null,
      "outputs": [
        {
          "output_type": "execute_result",
          "data": {
            "text/plain": [
              "(60000, 784)"
            ]
          },
          "metadata": {},
          "execution_count": 50
        }
      ]
    },
    {
      "cell_type": "code",
      "source": [
        "y_train = train[1]"
      ],
      "metadata": {
        "id": "ZC9iScRxvXrt"
      },
      "execution_count": null,
      "outputs": []
    },
    {
      "cell_type": "code",
      "source": [
        "x_test = np.reshape(test[0], (10000,-1))"
      ],
      "metadata": {
        "id": "YogGKGvdva97"
      },
      "execution_count": null,
      "outputs": []
    },
    {
      "cell_type": "code",
      "source": [
        "x_test.shape"
      ],
      "metadata": {
        "colab": {
          "base_uri": "https://localhost:8080/"
        },
        "id": "L_jdT8f6vg7W",
        "outputId": "093898a0-b06a-40e3-ae41-b53d07abfd55"
      },
      "execution_count": null,
      "outputs": [
        {
          "output_type": "execute_result",
          "data": {
            "text/plain": [
              "(10000, 784)"
            ]
          },
          "metadata": {},
          "execution_count": 53
        }
      ]
    },
    {
      "cell_type": "code",
      "source": [
        "y_test = test[1]"
      ],
      "metadata": {
        "id": "j6EbhRpEvkNS"
      },
      "execution_count": null,
      "outputs": []
    },
    {
      "cell_type": "code",
      "source": [
        "#mi dzev karucelu hamar\n",
        "model = tf.keras.models.Sequential()"
      ],
      "metadata": {
        "id": "rlNVLDzlvne7"
      },
      "execution_count": null,
      "outputs": []
    },
    {
      "cell_type": "code",
      "source": [
        "model.add(tf.keras.layers.Dense(100, activation=\"relu\", ))"
      ],
      "metadata": {
        "id": "KfToZMwLvyN1"
      },
      "execution_count": null,
      "outputs": []
    },
    {
      "cell_type": "code",
      "source": [
        "model.add(tf.keras.layers.Dense(10))"
      ],
      "metadata": {
        "id": "Kq8J2uaFwhHN"
      },
      "execution_count": null,
      "outputs": []
    },
    {
      "cell_type": "code",
      "source": [
        "#NN has parameters\n",
        "784*100 + 100 + 10*100 + 10"
      ],
      "metadata": {
        "colab": {
          "base_uri": "https://localhost:8080/"
        },
        "id": "gJHCfRAbwsJx",
        "outputId": "2f92cc1d-dbda-464a-feb6-250a31096a44"
      },
      "execution_count": null,
      "outputs": [
        {
          "output_type": "execute_result",
          "data": {
            "text/plain": [
              "79510"
            ]
          },
          "metadata": {},
          "execution_count": 58
        }
      ]
    },
    {
      "cell_type": "code",
      "source": [
        "model.build(input_shape=(None, 784))"
      ],
      "metadata": {
        "id": "rXBdxEtGxUC1"
      },
      "execution_count": null,
      "outputs": []
    },
    {
      "cell_type": "code",
      "source": [
        "model.summary()"
      ],
      "metadata": {
        "colab": {
          "base_uri": "https://localhost:8080/"
        },
        "id": "oQH2quCSyK_P",
        "outputId": "cb7e54ae-8f8e-4907-deea-e8131da54f9e"
      },
      "execution_count": null,
      "outputs": [
        {
          "output_type": "stream",
          "name": "stdout",
          "text": [
            "Model: \"sequential_1\"\n",
            "_________________________________________________________________\n",
            " Layer (type)                Output Shape              Param #   \n",
            "=================================================================\n",
            " dense_2 (Dense)             (None, 100)               78500     \n",
            "                                                                 \n",
            " dense_3 (Dense)             (None, 10)                1010      \n",
            "                                                                 \n",
            "=================================================================\n",
            "Total params: 79,510\n",
            "Trainable params: 79,510\n",
            "Non-trainable params: 0\n",
            "_________________________________________________________________\n"
          ]
        }
      ]
    },
    {
      "cell_type": "code",
      "source": [
        "#partadir chi keras-ov u=anel, uxxaki poqr baner arag anum e\n",
        "#Sparse Cat Crossentr- takic on e hot encoding e anum ev heto havakanayanin veltori het lossy hashvum\n",
        "#frok _logits = True chenq dnum True, apa piti poxancne q havanakanayin vektor, hakaarak depqum takic anum e\n",
        "loss = tf.keras.losses.SparseCategoricalCrossentropy(from_logits=\"True\")"
      ],
      "metadata": {
        "id": "1h34PJ1ryyIj"
      },
      "execution_count": null,
      "outputs": []
    },
    {
      "cell_type": "code",
      "source": [
        "model.compile(optimizer=\"adam\", loss=loss, metrics=[\"accuracy\"])"
      ],
      "metadata": {
        "id": "Eyk7p8Rk0SmY"
      },
      "execution_count": null,
      "outputs": []
    },
    {
      "cell_type": "code",
      "source": [
        "output = model.fit(x_train, y_train, batch_size=100, epochs=10, validation_data=(x_test, y_test))"
      ],
      "metadata": {
        "colab": {
          "base_uri": "https://localhost:8080/"
        },
        "id": "2Akgwwdj05Dh",
        "outputId": "5c8c4469-13ea-42d7-d8de-987b3bfe9b66"
      },
      "execution_count": null,
      "outputs": [
        {
          "output_type": "stream",
          "name": "stdout",
          "text": [
            "Epoch 1/10\n",
            "600/600 [==============================] - 3s 4ms/step - loss: 3.2738 - accuracy: 0.8385 - val_loss: 0.6280 - val_accuracy: 0.8761\n",
            "Epoch 2/10\n",
            "600/600 [==============================] - 2s 4ms/step - loss: 0.4837 - accuracy: 0.8946 - val_loss: 0.4277 - val_accuracy: 0.9083\n",
            "Epoch 3/10\n",
            "600/600 [==============================] - 2s 4ms/step - loss: 0.3261 - accuracy: 0.9200 - val_loss: 0.3544 - val_accuracy: 0.9182\n",
            "Epoch 4/10\n",
            "600/600 [==============================] - 2s 4ms/step - loss: 0.2520 - accuracy: 0.9328 - val_loss: 0.3105 - val_accuracy: 0.9276\n",
            "Epoch 5/10\n",
            "600/600 [==============================] - 2s 4ms/step - loss: 0.2145 - accuracy: 0.9420 - val_loss: 0.2864 - val_accuracy: 0.9386\n",
            "Epoch 6/10\n",
            "600/600 [==============================] - 2s 4ms/step - loss: 0.1952 - accuracy: 0.9471 - val_loss: 0.2728 - val_accuracy: 0.9363\n",
            "Epoch 7/10\n",
            "600/600 [==============================] - 2s 4ms/step - loss: 0.1722 - accuracy: 0.9518 - val_loss: 0.2494 - val_accuracy: 0.9439\n",
            "Epoch 8/10\n",
            "600/600 [==============================] - 2s 4ms/step - loss: 0.1638 - accuracy: 0.9550 - val_loss: 0.2539 - val_accuracy: 0.9457\n",
            "Epoch 9/10\n",
            "600/600 [==============================] - 2s 4ms/step - loss: 0.1590 - accuracy: 0.9563 - val_loss: 0.2397 - val_accuracy: 0.9455\n",
            "Epoch 10/10\n",
            "600/600 [==============================] - 2s 4ms/step - loss: 0.1470 - accuracy: 0.9588 - val_loss: 0.2217 - val_accuracy: 0.9509\n"
          ]
        }
      ]
    },
    {
      "cell_type": "code",
      "source": [
        ""
      ],
      "metadata": {
        "id": "MaZWpyl_3CcJ"
      },
      "execution_count": null,
      "outputs": []
    },
    {
      "cell_type": "code",
      "source": [
        "model.evaluate(x_test, y_test)"
      ],
      "metadata": {
        "colab": {
          "base_uri": "https://localhost:8080/"
        },
        "id": "zP_n9PYH2Xtf",
        "outputId": "ef465fdd-e622-461c-8eb4-617a7f3ab339"
      },
      "execution_count": null,
      "outputs": [
        {
          "output_type": "stream",
          "name": "stdout",
          "text": [
            "313/313 [==============================] - 1s 2ms/step - loss: 0.2217 - accuracy: 0.9509\n"
          ]
        },
        {
          "output_type": "execute_result",
          "data": {
            "text/plain": [
              "[0.2217138409614563, 0.9509000182151794]"
            ]
          },
          "metadata": {},
          "execution_count": 64
        }
      ]
    },
    {
      "cell_type": "code",
      "source": [
        "#h5 compress e anum\n",
        "model.save(\"KerasMnist.h5\")"
      ],
      "metadata": {
        "id": "IcPGuf1R2m4c"
      },
      "execution_count": null,
      "outputs": []
    },
    {
      "cell_type": "code",
      "source": [
        "x_train[:1].shape"
      ],
      "metadata": {
        "colab": {
          "base_uri": "https://localhost:8080/"
        },
        "id": "uMOkuXfQ3Tr7",
        "outputId": "83f81542-61d4-4496-99fa-c8154ec8fa53"
      },
      "execution_count": null,
      "outputs": [
        {
          "output_type": "execute_result",
          "data": {
            "text/plain": [
              "(1, 784)"
            ]
          },
          "metadata": {},
          "execution_count": 66
        }
      ]
    },
    {
      "cell_type": "code",
      "source": [
        "model(x_train[:1])"
      ],
      "metadata": {
        "colab": {
          "base_uri": "https://localhost:8080/"
        },
        "id": "6LE_O06D3FFz",
        "outputId": "567117f7-bb05-482f-fe36-e218d44b27ab"
      },
      "execution_count": null,
      "outputs": [
        {
          "output_type": "execute_result",
          "data": {
            "text/plain": [
              "<tf.Tensor: shape=(1, 10), dtype=float32, numpy=\n",
              "array([[33.09762 , 45.977154, 51.953503, 86.98181 , 14.251741, 98.14676 ,\n",
              "        18.548975, 56.72096 , 67.2479  , 70.49838 ]], dtype=float32)>"
            ]
          },
          "metadata": {},
          "execution_count": 67
        }
      ]
    },
    {
      "cell_type": "code",
      "source": [
        "tf.nn.softmax(model(x_train[:1]))"
      ],
      "metadata": {
        "colab": {
          "base_uri": "https://localhost:8080/"
        },
        "id": "JQZumzYL392X",
        "outputId": "1d9040b0-8372-4a06-ac0c-d7cfe1d76d1d"
      },
      "execution_count": null,
      "outputs": [
        {
          "output_type": "execute_result",
          "data": {
            "text/plain": [
              "<tf.Tensor: shape=(1, 10), dtype=float32, numpy=\n",
              "array([[5.6170836e-29, 2.2030389e-23, 8.6799559e-21, 1.4161810e-05,\n",
              "        3.6715531e-37, 9.9998581e-01, 2.6984517e-35, 1.0209333e-18,\n",
              "        3.8088222e-14, 9.8278037e-13]], dtype=float32)>"
            ]
          },
          "metadata": {},
          "execution_count": 68
        }
      ]
    },
    {
      "cell_type": "code",
      "source": [
        "y_train[0]"
      ],
      "metadata": {
        "colab": {
          "base_uri": "https://localhost:8080/"
        },
        "id": "IzS_BYT84j7z",
        "outputId": "a91461e2-9a66-47d6-d709-26f92b48a0d9"
      },
      "execution_count": null,
      "outputs": [
        {
          "output_type": "execute_result",
          "data": {
            "text/plain": [
              "5"
            ]
          },
          "metadata": {},
          "execution_count": 69
        }
      ]
    },
    {
      "cell_type": "code",
      "source": [
        ""
      ],
      "metadata": {
        "id": "81FSe6-C5-SA"
      },
      "execution_count": null,
      "outputs": []
    },
    {
      "cell_type": "code",
      "source": [
        "output.history.keys()"
      ],
      "metadata": {
        "colab": {
          "base_uri": "https://localhost:8080/"
        },
        "id": "FYAPw5N442Kl",
        "outputId": "9c9aa3d2-a6bb-4cbb-fb25-468451bb5e26"
      },
      "execution_count": null,
      "outputs": [
        {
          "output_type": "execute_result",
          "data": {
            "text/plain": [
              "dict_keys(['loss', 'accuracy', 'val_loss', 'val_accuracy'])"
            ]
          },
          "metadata": {},
          "execution_count": 70
        }
      ]
    },
    {
      "cell_type": "code",
      "source": [
        "output.history[\"loss\"]"
      ],
      "metadata": {
        "colab": {
          "base_uri": "https://localhost:8080/"
        },
        "id": "FLXgnCfO49bV",
        "outputId": "0a05b47f-f3cb-42a5-d2fd-13322b6b3870"
      },
      "execution_count": null,
      "outputs": [
        {
          "output_type": "execute_result",
          "data": {
            "text/plain": [
              "[3.273768186569214,\n",
              " 0.4837067723274231,\n",
              " 0.32609307765960693,\n",
              " 0.25203824043273926,\n",
              " 0.21446414291858673,\n",
              " 0.19524583220481873,\n",
              " 0.1722140908241272,\n",
              " 0.16375015676021576,\n",
              " 0.15900003910064697,\n",
              " 0.14701157808303833]"
            ]
          },
          "metadata": {},
          "execution_count": 71
        }
      ]
    }
  ]
}