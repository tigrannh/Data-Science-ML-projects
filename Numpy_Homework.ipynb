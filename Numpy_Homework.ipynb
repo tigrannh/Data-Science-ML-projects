{
  "cells": [
    {
      "cell_type": "markdown",
      "metadata": {
        "id": "view-in-github",
        "colab_type": "text"
      },
      "source": [
        "<a href=\"https://colab.research.google.com/github/tigrannh/Data-Science-ML-projects/blob/main/Numpy_Homework.ipynb\" target=\"_parent\"><img src=\"https://colab.research.google.com/assets/colab-badge.svg\" alt=\"Open In Colab\"/></a>"
      ]
    },
    {
      "cell_type": "markdown",
      "metadata": {
        "id": "3JfQnhjHt8cU"
      },
      "source": [
        "#### 1. Create a 3x5 numpy array filled with random numbers from 1 to 10.\n",
        "\n",
        "#### 1. Ստեղծեք 1-ից 10 պատահական թվերով լցված (3, 5) չափերով numpy array։"
      ]
    },
    {
      "cell_type": "code",
      "execution_count": null,
      "metadata": {
        "id": "WQlonWgZ0B9g",
        "outputId": "54ac1622-fea9-41bd-b395-75d1beda7372"
      },
      "outputs": [
        {
          "name": "stdout",
          "output_type": "stream",
          "text": [
            "Requirement already satisfied: numpy in c:\\users\\lenovo\\appdata\\local\\packages\\pythonsoftwarefoundation.python.3.9_qbz5n2kfra8p0\\localcache\\local-packages\\python39\\site-packages (1.22.2)\n"
          ]
        },
        {
          "name": "stderr",
          "output_type": "stream",
          "text": [
            "WARNING: You are using pip version 21.3.1; however, version 22.0.3 is available.\n",
            "You should consider upgrading via the 'C:\\Users\\lenovo\\AppData\\Local\\Microsoft\\WindowsApps\\PythonSoftwareFoundation.Python.3.9_qbz5n2kfra8p0\\python.exe -m pip install --upgrade pip' command.\n"
          ]
        }
      ],
      "source": [
        "!pip install numpy"
      ]
    },
    {
      "cell_type": "code",
      "execution_count": null,
      "metadata": {
        "id": "pRkuF2Mu0B9k"
      },
      "outputs": [],
      "source": [
        "import numpy as np"
      ]
    },
    {
      "cell_type": "code",
      "execution_count": null,
      "metadata": {
        "colab": {
          "base_uri": "https://localhost:8080/"
        },
        "id": "6UInk9wQt8cc",
        "outputId": "2a35e802-46a4-4503-d74a-d03cdb0ad589"
      },
      "outputs": [
        {
          "data": {
            "text/plain": [
              "array([[ 2,  5,  4,  2, 10],\n",
              "       [ 1,  1,  9,  3,  2],\n",
              "       [ 2,  6,  7,  6,  6]])"
            ]
          },
          "execution_count": 4,
          "metadata": {},
          "output_type": "execute_result"
        }
      ],
      "source": [
        "np.random.randint(1,11,(3,5))"
      ]
    },
    {
      "cell_type": "markdown",
      "metadata": {
        "id": "R7OZoG3Jt8cg"
      },
      "source": [
        "#### 2. Create a numpy array of size 10 filled with 0s and replace its 5th value with a 3.\n",
        "\n",
        "#### 2. Ստեղծեք 10 չափի 0-ներով լցված numpy array ու փոխարինեք դրա 5-րդ արժեքը 3 թվով։"
      ]
    },
    {
      "cell_type": "code",
      "execution_count": null,
      "metadata": {
        "colab": {
          "base_uri": "https://localhost:8080/"
        },
        "id": "6X_6q1iut8ch",
        "outputId": "59ca3b48-bbdb-492b-cf1f-0bd8adf7bd54"
      },
      "outputs": [
        {
          "data": {
            "text/plain": [
              "array([0, 0, 0, 0, 3, 0, 0, 0, 0, 0])"
            ]
          },
          "execution_count": 6,
          "metadata": {},
          "output_type": "execute_result"
        }
      ],
      "source": [
        "a = np.zeros(10, dtype=int)\n",
        "a[4] = 3\n",
        "a"
      ]
    },
    {
      "cell_type": "markdown",
      "metadata": {
        "id": "mSr_VTlwt8ci"
      },
      "source": [
        "#### 3. Create a numpy array filled with numbers from 3 to 15 i.e. ([3, 4 … 13, 14])\n",
        "\n",
        "#### 3. Ստեղծեք 3-ից 15 թվերից բաղկացած numpy array ([3, 4 … 13, 14])"
      ]
    },
    {
      "cell_type": "code",
      "execution_count": null,
      "metadata": {
        "colab": {
          "base_uri": "https://localhost:8080/"
        },
        "id": "i0xiw10Ht8ci",
        "outputId": "52127c94-e697-4561-a5bf-0d56a323085d"
      },
      "outputs": [
        {
          "data": {
            "text/plain": [
              "array([ 3,  4,  5,  6,  7,  8,  9, 10, 11, 12, 13, 14, 15])"
            ]
          },
          "execution_count": 7,
          "metadata": {},
          "output_type": "execute_result"
        }
      ],
      "source": [
        "np.arange(3,16)"
      ]
    },
    {
      "cell_type": "markdown",
      "metadata": {
        "id": "G6wnMyHot8cj"
      },
      "source": [
        "#### 4. Reshape a numpy array of size 6x0 [1, 3, 5, 2, 4, 5] into an array of size 3x2 and then 2x3 without changing the original numpy array.  \n",
        "\n",
        "#### 4. Վերածեք 6x0 [1, 3, 5, 2, 4, 5] numpy array-ը սկզբում 3x2 այնուհետև 2x3 numpy array-ների առանց սկզբնական numpy array-ը փոփոխելու։"
      ]
    },
    {
      "cell_type": "code",
      "execution_count": null,
      "metadata": {
        "colab": {
          "base_uri": "https://localhost:8080/"
        },
        "id": "OeuQ7xiEt8ck",
        "outputId": "63d5274e-4ef1-44db-d81e-68b6b3e7f9b0"
      },
      "outputs": [
        {
          "name": "stdout",
          "output_type": "stream",
          "text": [
            "[[1 3]\n",
            " [5 2]\n",
            " [4 5]]\n",
            "[[1 3 5]\n",
            " [2 4 5]]\n"
          ]
        }
      ],
      "source": [
        "a = np.array([1, 3, 5, 2, 4, 5])\n",
        "print(a.reshape(3,2))\n",
        "print(a.reshape(2,3))"
      ]
    },
    {
      "cell_type": "markdown",
      "metadata": {
        "id": "kBf22J-2t8cl"
      },
      "source": [
        "#### 5. Write a function which gets a numpy array as an input and divides all of the array values by 2 over and over again, until the mean of the array numbers is <=5. Then, once the mean of the array numbers is <=5, the funtion returns the modified numpy array. \n",
        "\n",
        "#### 5. Գրեք ֆունկցիա, որը ստանում է numpy array ու բաժանում է դրա բոլոր արժեքները 2-ի այնքան ժամանակ մինչև որ դրանց միջին արժեքը լինի <=5։ Այնուհետև, հենց միջին արժեքը դառնում է <=5, ֆունկցիան վերադարձնում է փոփոխված numpy array-ը։"
      ]
    },
    {
      "cell_type": "code",
      "execution_count": null,
      "metadata": {
        "colab": {
          "base_uri": "https://localhost:8080/"
        },
        "id": "DwRTlPWXt8cm",
        "outputId": "2e940c84-82de-4c1f-d08c-7abe6e12ea79"
      },
      "outputs": [
        {
          "data": {
            "text/plain": [
              "array([2. , 3.5, 4. , 2. , 3. ])"
            ]
          },
          "execution_count": 23,
          "metadata": {},
          "output_type": "execute_result"
        }
      ],
      "source": [
        "def divideUntilMeanLess(arr: np.ndarray) -> np.ndarray:\n",
        "    if type(arr) is np.ndarray:\n",
        "        while np.mean(arr) > 5:\n",
        "            arr = np.divide(arr,2)\n",
        "        return arr\n",
        "    else:\n",
        "        raise TypeError(\"Function argument must be numpy array\")\n",
        "    \n",
        "divideUntilMeanLess(np.array([4,7,8,4,6]))"
      ]
    },
    {
      "cell_type": "markdown",
      "metadata": {
        "id": "eKQKGYmGt8cn"
      },
      "source": [
        "#### 6. Write a function which gets a 5x4 numpy array filled with random numbers from 1 to 10 as an input and returns 4 different numpy arrays which are the columns of the original numpy array. Write another similar function which returns 5 different numpy arrays which are rows of the original numpy array. \n",
        "\n",
        "#### 6. Գրեք ֆունկցիա, որը ստանում է 1-ից 10 պատահական թվերով լցված 5x4 numpy array ու վերադարձնում է 4 տարբեր numpy array-ներ, որոնք սկզբնական numpy array-ի սյուներն են։ Գրեք նմանատիպ ֆունկցիա, որը վերադարձնում է 5 տարբեր numpy array-ներ, որոնք սկզբնական numpy array-ի տողերն են։"
      ]
    },
    {
      "cell_type": "code",
      "execution_count": null,
      "metadata": {
        "colab": {
          "base_uri": "https://localhost:8080/"
        },
        "id": "oALXYhIyt8cn",
        "outputId": "c674aacb-fd0c-4fc4-a114-de294ba134b0"
      },
      "outputs": [
        {
          "name": "stdout",
          "output_type": "stream",
          "text": [
            "[[10  2  2  6]\n",
            " [ 5  4  1  3]\n",
            " [ 6  4  5  8]\n",
            " [ 3  5 10  2]\n",
            " [ 4  4  3  6]] \n",
            "\n",
            "[array([10,  5,  6,  3,  4]), array([2, 4, 4, 5, 4]), array([ 2,  1,  5, 10,  3]), array([6, 3, 8, 2, 6])]\n",
            "\n",
            "[array([10,  2,  2,  6]), array([5, 4, 1, 3]), array([6, 4, 5, 8]), array([ 3,  5, 10,  2]), array([4, 4, 3, 6])]\n"
          ]
        }
      ],
      "source": [
        "def columns(arr: np.ndarray):\n",
        "    assert(type(arr) is np.ndarray)\n",
        "    assert(arr.shape == (5,4))\n",
        "    assert(np.amin(arr) >= 1 and np.amax(arr) <= 10)\n",
        "    return [arr[:,i] for i in range(4)]\n",
        "  \n",
        "def rows(arr: np.ndarray):\n",
        "    assert(type(arr) is np.ndarray)\n",
        "    assert(arr.shape == (5,4))\n",
        "    assert(np.amin(arr) >= 1 and np.amax(arr) <= 10)\n",
        "    return [arr[i,:] for i in range(5)]\n",
        "\n",
        "arr = np.random.randint(1,11,(5,4))\n",
        "print(arr,'\\n')\n",
        "print(columns(arr), rows(arr), sep='\\n\\n')"
      ]
    },
    {
      "cell_type": "markdown",
      "metadata": {
        "id": "QWdW7FCSt8co"
      },
      "source": [
        "#### 7. Multiply a 5x3 numpy array by a 3x2 numpy array containing random integer values with some fixed seed. \n",
        "\n",
        "#### 7. Ստեղծեք 5x3 ու 3x2 չափանի numpy array-ներ որոնք պարունակում են պատահական integer տիպի արժեքներ ֆիքսված seed-ով։ Գտեք առաջին և երկրորդ  array-ների արտադրյալը։ "
      ]
    },
    {
      "cell_type": "code",
      "execution_count": null,
      "metadata": {
        "colab": {
          "base_uri": "https://localhost:8080/"
        },
        "id": "JPZZ_vqbt8co",
        "outputId": "bfef37a0-66d7-4ef2-a81b-0c223a382233"
      },
      "outputs": [
        {
          "name": "stdout",
          "output_type": "stream",
          "text": [
            "[[5 1 2]\n",
            " [1 2 9]\n",
            " [1 9 7]\n",
            " [5 4 1]\n",
            " [5 7 9]]\n",
            "[[2 9]\n",
            " [5 2]\n",
            " [4 7]]\n",
            "[[ 23  61]\n",
            " [ 48  76]\n",
            " [ 75  76]\n",
            " [ 34  60]\n",
            " [ 81 122]]\n"
          ]
        }
      ],
      "source": [
        "np.random.seed(10)\n",
        "arr1 = np.random.randint(1,10,(5,3))\n",
        "arr2 = np.random.randint(1,10,(3,2))\n",
        "print(arr1, arr2, np.dot(arr1, arr2), sep='\\n')"
      ]
    },
    {
      "cell_type": "markdown",
      "metadata": {
        "id": "z8fH1pObt8cp"
      },
      "source": [
        "#### 8. Write a program to sort an array of integers of shape 3x3 first along the columns, then along rows and finally flatten the array so that it becomes a one dimentional array of size 9 and sort the flattened array. \n",
        "\n",
        "#### 8. Գրեք ծրագիր որը կսորտավորի ձեր ցանկացած թվերով լցված 3x3 չափանի array-ը սկզբում ըստ սյուների, հետո ըստ տողերի, ապա flatten արեք array-ը դարձնելով այն 9 արժեք պարունակող 1 չափանի array ու սորտավորեք այն։ "
      ]
    },
    {
      "cell_type": "code",
      "execution_count": null,
      "metadata": {
        "colab": {
          "base_uri": "https://localhost:8080/"
        },
        "id": "zaPoVYtDt8cq",
        "outputId": "3e69f58a-8a02-4813-8dd6-034d04c53112"
      },
      "outputs": [
        {
          "name": "stdout",
          "output_type": "stream",
          "text": [
            "[[9 3 1]\n",
            " [7 8 9]\n",
            " [2 8 2]] \n",
            "\n",
            "\n",
            "[[2 3 1]\n",
            " [7 8 2]\n",
            " [9 8 9]] \n",
            "\n",
            "\n",
            "[[1 3 9]\n",
            " [7 8 9]\n",
            " [2 2 8]] \n",
            "\n",
            "\n",
            "[1 2 2 3 7 8 8 9 9]\n"
          ]
        }
      ],
      "source": [
        "arr = np.random.randint(1,10,(3,3))\n",
        "print(arr, '\\n\\n')\n",
        "print(np.sort(arr, axis=0), '\\n\\n')\n",
        "print(np.sort(arr, axis=1), '\\n\\n')\n",
        "print(np.sort(arr.flatten()))"
      ]
    },
    {
      "cell_type": "markdown",
      "metadata": {
        "id": "JZu-uLDrt8cr"
      },
      "source": [
        "#### 9. Create a 7 x 7 numpy array of zeros and then \"frame\" it with a border of ones. Your result should look like this:\n",
        "\n",
        "#### 9. Ստեղծեք 7 x 7 չափանի, 0-ներով լցված numpy array։ Ավելացրեք numpy array-ին 1-երից բաղկացած “շրջանակ”։ Վերջնական արդյունքը պետք է ունենա հետևյալ տեսքը՝"
      ]
    },
    {
      "cell_type": "markdown",
      "metadata": {
        "id": "ZHISojN9uIKo"
      },
      "source": [
        "![image.png](data:image/png;base64,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)"
      ]
    },
    {
      "cell_type": "code",
      "execution_count": null,
      "metadata": {
        "colab": {
          "base_uri": "https://localhost:8080/"
        },
        "id": "oIi_Dif1t8cs",
        "outputId": "c1270a69-8ba3-4e43-e811-ea99e495677a"
      },
      "outputs": [
        {
          "name": "stdout",
          "output_type": "stream",
          "text": [
            "[[0. 0. 0. 0. 0. 0. 0.]\n",
            " [0. 0. 0. 0. 0. 0. 0.]\n",
            " [0. 0. 0. 0. 0. 0. 0.]\n",
            " [0. 0. 0. 0. 0. 0. 0.]\n",
            " [0. 0. 0. 0. 0. 0. 0.]\n",
            " [0. 0. 0. 0. 0. 0. 0.]\n",
            " [0. 0. 0. 0. 0. 0. 0.]]\n",
            "\n",
            "[[1. 1. 1. 1. 1. 1. 1. 1. 1.]\n",
            " [1. 0. 0. 0. 0. 0. 0. 0. 1.]\n",
            " [1. 0. 0. 0. 0. 0. 0. 0. 1.]\n",
            " [1. 0. 0. 0. 0. 0. 0. 0. 1.]\n",
            " [1. 0. 0. 0. 0. 0. 0. 0. 1.]\n",
            " [1. 0. 0. 0. 0. 0. 0. 0. 1.]\n",
            " [1. 0. 0. 0. 0. 0. 0. 0. 1.]\n",
            " [1. 0. 0. 0. 0. 0. 0. 0. 1.]\n",
            " [1. 1. 1. 1. 1. 1. 1. 1. 1.]]\n"
          ]
        }
      ],
      "source": [
        "arr = np.zeros((7,7))\n",
        "newArr = np.pad(arr, 1, 'constant', constant_values=1)\n",
        "print(arr, newArr ,sep='\\n\\n')"
      ]
    },
    {
      "cell_type": "markdown",
      "metadata": {
        "id": "_BTfB9met8ct"
      },
      "source": [
        "#### 10. Create the following numpy arrays and calculate the product between a and b. Transform the second array if needed.\n",
        "\n",
        "#### Ստեղծեք հետևյալ numpy array-ները ու հաշվեք a և b array-ների արտադրյալը։ Transform արեք երկրորդ array-ը եթե կա դրա կարիքը։"
      ]
    },
    {
      "cell_type": "markdown",
      "metadata": {
        "id": "tuZhUSQ-t8ct"
      },
      "source": [
        "$$a = \\begin{bmatrix} 1 & 3 \\\\ 3 & 13 \\\\ 0 & -1  \\end{bmatrix}$$\n",
        "\n",
        "$$b = \\begin{bmatrix} 1 & 1 \\\\ 2 & 1 \\\\ 3 & -3 \\end{bmatrix}$$"
      ]
    },
    {
      "cell_type": "code",
      "execution_count": null,
      "metadata": {
        "colab": {
          "base_uri": "https://localhost:8080/"
        },
        "id": "3pssx0jGt8cu",
        "outputId": "7f82cc82-8f11-4ecf-b56e-e58aeddf35c9"
      },
      "outputs": [
        {
          "data": {
            "text/plain": [
              "array([[  4,   5,  -6],\n",
              "       [ 16,  19, -30],\n",
              "       [ -1,  -1,   3]])"
            ]
          },
          "execution_count": 64,
          "metadata": {},
          "output_type": "execute_result"
        }
      ],
      "source": [
        "a = np.array([[1, 3], [3, 13], [0, -1]])\n",
        "b = np.array([[1, 1], [2, 1], [3, -3]])\n",
        "np.dot(a, np.transpose(b))"
      ]
    },
    {
      "cell_type": "code",
      "execution_count": null,
      "metadata": {
        "id": "MHwq6KT_0B9-"
      },
      "outputs": [],
      "source": [
        ""
      ]
    }
  ],
  "metadata": {
    "colab": {
      "collapsed_sections": [],
      "name": "Numpy_Homework.ipynb",
      "provenance": [],
      "include_colab_link": true
    },
    "kernelspec": {
      "display_name": "Python 3 (ipykernel)",
      "language": "python",
      "name": "python3"
    },
    "language_info": {
      "codemirror_mode": {
        "name": "ipython",
        "version": 3
      },
      "file_extension": ".py",
      "mimetype": "text/x-python",
      "name": "python",
      "nbconvert_exporter": "python",
      "pygments_lexer": "ipython3",
      "version": "3.9.10"
    }
  },
  "nbformat": 4,
  "nbformat_minor": 0
}