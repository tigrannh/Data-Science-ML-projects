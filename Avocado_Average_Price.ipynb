{
  "cells": [
    {
      "cell_type": "markdown",
      "metadata": {
        "id": "view-in-github",
        "colab_type": "text"
      },
      "source": [
        "<a href=\"https://colab.research.google.com/github/tigrannh/Data-Science-ML-projects/blob/main/Avocado_Average_Price.ipynb\" target=\"_parent\"><img src=\"https://colab.research.google.com/assets/colab-badge.svg\" alt=\"Open In Colab\"/></a>"
      ]
    },
    {
      "cell_type": "code",
      "execution_count": null,
      "id": "d19237cc",
      "metadata": {
        "id": "d19237cc",
        "outputId": "d1fff4f3-3128-4ecd-aa2c-9e9139de7bf9"
      },
      "outputs": [
        {
          "name": "stdout",
          "output_type": "stream",
          "text": [
            "Requirement already satisfied: numpy in c:\\users\\lenovo\\appdata\\local\\packages\\pythonsoftwarefoundation.python.3.9_qbz5n2kfra8p0\\localcache\\local-packages\\python39\\site-packages (1.22.2)\n"
          ]
        },
        {
          "name": "stderr",
          "output_type": "stream",
          "text": [
            "WARNING: You are using pip version 21.3.1; however, version 22.0.3 is available.\n",
            "You should consider upgrading via the 'C:\\Users\\lenovo\\AppData\\Local\\Microsoft\\WindowsApps\\PythonSoftwareFoundation.Python.3.9_qbz5n2kfra8p0\\python.exe -m pip install --upgrade pip' command.\n"
          ]
        },
        {
          "name": "stdout",
          "output_type": "stream",
          "text": [
            "Requirement already satisfied: pandas in c:\\users\\lenovo\\appdata\\local\\packages\\pythonsoftwarefoundation.python.3.9_qbz5n2kfra8p0\\localcache\\local-packages\\python39\\site-packages (1.4.1)\n",
            "Requirement already satisfied: python-dateutil>=2.8.1 in c:\\users\\lenovo\\appdata\\local\\packages\\pythonsoftwarefoundation.python.3.9_qbz5n2kfra8p0\\localcache\\local-packages\\python39\\site-packages (from pandas) (2.8.2)\n",
            "Requirement already satisfied: numpy>=1.18.5 in c:\\users\\lenovo\\appdata\\local\\packages\\pythonsoftwarefoundation.python.3.9_qbz5n2kfra8p0\\localcache\\local-packages\\python39\\site-packages (from pandas) (1.22.2)\n",
            "Requirement already satisfied: pytz>=2020.1 in c:\\users\\lenovo\\appdata\\local\\packages\\pythonsoftwarefoundation.python.3.9_qbz5n2kfra8p0\\localcache\\local-packages\\python39\\site-packages (from pandas) (2021.3)\n",
            "Requirement already satisfied: six>=1.5 in c:\\users\\lenovo\\appdata\\local\\packages\\pythonsoftwarefoundation.python.3.9_qbz5n2kfra8p0\\localcache\\local-packages\\python39\\site-packages (from python-dateutil>=2.8.1->pandas) (1.16.0)\n"
          ]
        },
        {
          "name": "stderr",
          "output_type": "stream",
          "text": [
            "WARNING: You are using pip version 21.3.1; however, version 22.0.3 is available.\n",
            "You should consider upgrading via the 'C:\\Users\\lenovo\\AppData\\Local\\Microsoft\\WindowsApps\\PythonSoftwareFoundation.Python.3.9_qbz5n2kfra8p0\\python.exe -m pip install --upgrade pip' command.\n"
          ]
        }
      ],
      "source": [
        "!pip install numpy\n",
        "!pip install pandas"
      ]
    },
    {
      "cell_type": "code",
      "execution_count": null,
      "id": "9b721c24",
      "metadata": {
        "id": "9b721c24"
      },
      "outputs": [],
      "source": [
        "import numpy as np\n",
        "import pandas as pd\n",
        "import matplotlib.pyplot as plt\n",
        "from sklearn.model_selection import train_test_split\n",
        "from sklearn.linear_model import LinearRegression\n",
        "from sklearn.metrics import mean_squared_error, mean_absolute_error, r2_score"
      ]
    },
    {
      "cell_type": "markdown",
      "id": "79c310ae",
      "metadata": {
        "id": "79c310ae"
      },
      "source": [
        "#### Read the 'avocado.csv' with pandas. Make sure a new unnecessary column is not generated."
      ]
    },
    {
      "cell_type": "code",
      "execution_count": null,
      "id": "89218402",
      "metadata": {
        "id": "89218402"
      },
      "outputs": [],
      "source": [
        "avocado_df = pd.read_csv('avocado.csv', index_col=0)"
      ]
    },
    {
      "cell_type": "markdown",
      "id": "658484b3",
      "metadata": {
        "id": "658484b3"
      },
      "source": [
        "#### Explore the dataset, pay attention to redundancies, note the categorical (non-numeric) variables."
      ]
    },
    {
      "cell_type": "code",
      "execution_count": null,
      "id": "5537f491-4996-467b-bfaa-35a667d8bf22",
      "metadata": {
        "id": "5537f491-4996-467b-bfaa-35a667d8bf22",
        "outputId": "2b8e6421-5819-4870-e4a5-c3e9fa3b0b6c"
      },
      "outputs": [
        {
          "data": {
            "text/html": [
              "<div>\n",
              "<style scoped>\n",
              "    .dataframe tbody tr th:only-of-type {\n",
              "        vertical-align: middle;\n",
              "    }\n",
              "\n",
              "    .dataframe tbody tr th {\n",
              "        vertical-align: top;\n",
              "    }\n",
              "\n",
              "    .dataframe thead th {\n",
              "        text-align: right;\n",
              "    }\n",
              "</style>\n",
              "<table border=\"1\" class=\"dataframe\">\n",
              "  <thead>\n",
              "    <tr style=\"text-align: right;\">\n",
              "      <th></th>\n",
              "      <th>AveragePrice</th>\n",
              "      <th>Total Volume</th>\n",
              "      <th>4046</th>\n",
              "      <th>4225</th>\n",
              "      <th>4770</th>\n",
              "      <th>Total Bags</th>\n",
              "      <th>Small Bags</th>\n",
              "      <th>Large Bags</th>\n",
              "      <th>XLarge Bags</th>\n",
              "      <th>type</th>\n",
              "      <th>year</th>\n",
              "      <th>region</th>\n",
              "    </tr>\n",
              "  </thead>\n",
              "  <tbody>\n",
              "    <tr>\n",
              "      <th>0</th>\n",
              "      <td>1.33</td>\n",
              "      <td>64236.62</td>\n",
              "      <td>1036.74</td>\n",
              "      <td>54454.85</td>\n",
              "      <td>48.16</td>\n",
              "      <td>8696.87</td>\n",
              "      <td>8603.62</td>\n",
              "      <td>93.25</td>\n",
              "      <td>0.0</td>\n",
              "      <td>conventional</td>\n",
              "      <td>2015</td>\n",
              "      <td>Albany</td>\n",
              "    </tr>\n",
              "    <tr>\n",
              "      <th>1</th>\n",
              "      <td>1.35</td>\n",
              "      <td>54876.98</td>\n",
              "      <td>674.28</td>\n",
              "      <td>44638.81</td>\n",
              "      <td>58.33</td>\n",
              "      <td>9505.56</td>\n",
              "      <td>9408.07</td>\n",
              "      <td>97.49</td>\n",
              "      <td>0.0</td>\n",
              "      <td>conventional</td>\n",
              "      <td>2015</td>\n",
              "      <td>Albany</td>\n",
              "    </tr>\n",
              "    <tr>\n",
              "      <th>2</th>\n",
              "      <td>0.93</td>\n",
              "      <td>118220.22</td>\n",
              "      <td>794.70</td>\n",
              "      <td>109149.67</td>\n",
              "      <td>130.50</td>\n",
              "      <td>8145.35</td>\n",
              "      <td>8042.21</td>\n",
              "      <td>103.14</td>\n",
              "      <td>0.0</td>\n",
              "      <td>conventional</td>\n",
              "      <td>2015</td>\n",
              "      <td>Albany</td>\n",
              "    </tr>\n",
              "    <tr>\n",
              "      <th>3</th>\n",
              "      <td>1.08</td>\n",
              "      <td>78992.15</td>\n",
              "      <td>1132.00</td>\n",
              "      <td>71976.41</td>\n",
              "      <td>72.58</td>\n",
              "      <td>5811.16</td>\n",
              "      <td>5677.40</td>\n",
              "      <td>133.76</td>\n",
              "      <td>0.0</td>\n",
              "      <td>conventional</td>\n",
              "      <td>2015</td>\n",
              "      <td>Albany</td>\n",
              "    </tr>\n",
              "    <tr>\n",
              "      <th>4</th>\n",
              "      <td>1.28</td>\n",
              "      <td>51039.60</td>\n",
              "      <td>941.48</td>\n",
              "      <td>43838.39</td>\n",
              "      <td>75.78</td>\n",
              "      <td>6183.95</td>\n",
              "      <td>5986.26</td>\n",
              "      <td>197.69</td>\n",
              "      <td>0.0</td>\n",
              "      <td>conventional</td>\n",
              "      <td>2015</td>\n",
              "      <td>Albany</td>\n",
              "    </tr>\n",
              "  </tbody>\n",
              "</table>\n",
              "</div>"
            ],
            "text/plain": [
              "   AveragePrice  Total Volume     4046       4225    4770  Total Bags  \\\n",
              "0          1.33      64236.62  1036.74   54454.85   48.16     8696.87   \n",
              "1          1.35      54876.98   674.28   44638.81   58.33     9505.56   \n",
              "2          0.93     118220.22   794.70  109149.67  130.50     8145.35   \n",
              "3          1.08      78992.15  1132.00   71976.41   72.58     5811.16   \n",
              "4          1.28      51039.60   941.48   43838.39   75.78     6183.95   \n",
              "\n",
              "   Small Bags  Large Bags  XLarge Bags          type  year  region  \n",
              "0     8603.62       93.25          0.0  conventional  2015  Albany  \n",
              "1     9408.07       97.49          0.0  conventional  2015  Albany  \n",
              "2     8042.21      103.14          0.0  conventional  2015  Albany  \n",
              "3     5677.40      133.76          0.0  conventional  2015  Albany  \n",
              "4     5986.26      197.69          0.0  conventional  2015  Albany  "
            ]
          },
          "execution_count": 4,
          "metadata": {},
          "output_type": "execute_result"
        }
      ],
      "source": [
        "avocado_df.head()"
      ]
    },
    {
      "cell_type": "code",
      "execution_count": null,
      "id": "2dbf9386",
      "metadata": {
        "id": "2dbf9386",
        "outputId": "fb90eed6-01c5-4028-f8a5-25de93152e55"
      },
      "outputs": [
        {
          "data": {
            "text/html": [
              "<div>\n",
              "<style scoped>\n",
              "    .dataframe tbody tr th:only-of-type {\n",
              "        vertical-align: middle;\n",
              "    }\n",
              "\n",
              "    .dataframe tbody tr th {\n",
              "        vertical-align: top;\n",
              "    }\n",
              "\n",
              "    .dataframe thead th {\n",
              "        text-align: right;\n",
              "    }\n",
              "</style>\n",
              "<table border=\"1\" class=\"dataframe\">\n",
              "  <thead>\n",
              "    <tr style=\"text-align: right;\">\n",
              "      <th></th>\n",
              "      <th>AveragePrice</th>\n",
              "      <th>Total Volume</th>\n",
              "      <th>4046</th>\n",
              "      <th>4225</th>\n",
              "      <th>4770</th>\n",
              "      <th>Total Bags</th>\n",
              "      <th>Small Bags</th>\n",
              "      <th>Large Bags</th>\n",
              "      <th>XLarge Bags</th>\n",
              "      <th>year</th>\n",
              "    </tr>\n",
              "  </thead>\n",
              "  <tbody>\n",
              "    <tr>\n",
              "      <th>count</th>\n",
              "      <td>18249.000000</td>\n",
              "      <td>1.824900e+04</td>\n",
              "      <td>1.824900e+04</td>\n",
              "      <td>1.824900e+04</td>\n",
              "      <td>1.824900e+04</td>\n",
              "      <td>1.824900e+04</td>\n",
              "      <td>1.824900e+04</td>\n",
              "      <td>1.824900e+04</td>\n",
              "      <td>18249.000000</td>\n",
              "      <td>18249.000000</td>\n",
              "    </tr>\n",
              "    <tr>\n",
              "      <th>mean</th>\n",
              "      <td>1.405978</td>\n",
              "      <td>8.506440e+05</td>\n",
              "      <td>2.930084e+05</td>\n",
              "      <td>2.951546e+05</td>\n",
              "      <td>2.283974e+04</td>\n",
              "      <td>2.396392e+05</td>\n",
              "      <td>1.821947e+05</td>\n",
              "      <td>5.433809e+04</td>\n",
              "      <td>3106.426507</td>\n",
              "      <td>2016.147899</td>\n",
              "    </tr>\n",
              "    <tr>\n",
              "      <th>std</th>\n",
              "      <td>0.402677</td>\n",
              "      <td>3.453545e+06</td>\n",
              "      <td>1.264989e+06</td>\n",
              "      <td>1.204120e+06</td>\n",
              "      <td>1.074641e+05</td>\n",
              "      <td>9.862424e+05</td>\n",
              "      <td>7.461785e+05</td>\n",
              "      <td>2.439660e+05</td>\n",
              "      <td>17692.894652</td>\n",
              "      <td>0.939938</td>\n",
              "    </tr>\n",
              "    <tr>\n",
              "      <th>min</th>\n",
              "      <td>0.440000</td>\n",
              "      <td>8.456000e+01</td>\n",
              "      <td>0.000000e+00</td>\n",
              "      <td>0.000000e+00</td>\n",
              "      <td>0.000000e+00</td>\n",
              "      <td>0.000000e+00</td>\n",
              "      <td>0.000000e+00</td>\n",
              "      <td>0.000000e+00</td>\n",
              "      <td>0.000000</td>\n",
              "      <td>2015.000000</td>\n",
              "    </tr>\n",
              "    <tr>\n",
              "      <th>25%</th>\n",
              "      <td>1.100000</td>\n",
              "      <td>1.083858e+04</td>\n",
              "      <td>8.540700e+02</td>\n",
              "      <td>3.008780e+03</td>\n",
              "      <td>0.000000e+00</td>\n",
              "      <td>5.088640e+03</td>\n",
              "      <td>2.849420e+03</td>\n",
              "      <td>1.274700e+02</td>\n",
              "      <td>0.000000</td>\n",
              "      <td>2015.000000</td>\n",
              "    </tr>\n",
              "    <tr>\n",
              "      <th>50%</th>\n",
              "      <td>1.370000</td>\n",
              "      <td>1.073768e+05</td>\n",
              "      <td>8.645300e+03</td>\n",
              "      <td>2.906102e+04</td>\n",
              "      <td>1.849900e+02</td>\n",
              "      <td>3.974383e+04</td>\n",
              "      <td>2.636282e+04</td>\n",
              "      <td>2.647710e+03</td>\n",
              "      <td>0.000000</td>\n",
              "      <td>2016.000000</td>\n",
              "    </tr>\n",
              "    <tr>\n",
              "      <th>75%</th>\n",
              "      <td>1.660000</td>\n",
              "      <td>4.329623e+05</td>\n",
              "      <td>1.110202e+05</td>\n",
              "      <td>1.502069e+05</td>\n",
              "      <td>6.243420e+03</td>\n",
              "      <td>1.107834e+05</td>\n",
              "      <td>8.333767e+04</td>\n",
              "      <td>2.202925e+04</td>\n",
              "      <td>132.500000</td>\n",
              "      <td>2017.000000</td>\n",
              "    </tr>\n",
              "    <tr>\n",
              "      <th>max</th>\n",
              "      <td>3.250000</td>\n",
              "      <td>6.250565e+07</td>\n",
              "      <td>2.274362e+07</td>\n",
              "      <td>2.047057e+07</td>\n",
              "      <td>2.546439e+06</td>\n",
              "      <td>1.937313e+07</td>\n",
              "      <td>1.338459e+07</td>\n",
              "      <td>5.719097e+06</td>\n",
              "      <td>551693.650000</td>\n",
              "      <td>2018.000000</td>\n",
              "    </tr>\n",
              "  </tbody>\n",
              "</table>\n",
              "</div>"
            ],
            "text/plain": [
              "       AveragePrice  Total Volume          4046          4225          4770  \\\n",
              "count  18249.000000  1.824900e+04  1.824900e+04  1.824900e+04  1.824900e+04   \n",
              "mean       1.405978  8.506440e+05  2.930084e+05  2.951546e+05  2.283974e+04   \n",
              "std        0.402677  3.453545e+06  1.264989e+06  1.204120e+06  1.074641e+05   \n",
              "min        0.440000  8.456000e+01  0.000000e+00  0.000000e+00  0.000000e+00   \n",
              "25%        1.100000  1.083858e+04  8.540700e+02  3.008780e+03  0.000000e+00   \n",
              "50%        1.370000  1.073768e+05  8.645300e+03  2.906102e+04  1.849900e+02   \n",
              "75%        1.660000  4.329623e+05  1.110202e+05  1.502069e+05  6.243420e+03   \n",
              "max        3.250000  6.250565e+07  2.274362e+07  2.047057e+07  2.546439e+06   \n",
              "\n",
              "         Total Bags    Small Bags    Large Bags    XLarge Bags          year  \n",
              "count  1.824900e+04  1.824900e+04  1.824900e+04   18249.000000  18249.000000  \n",
              "mean   2.396392e+05  1.821947e+05  5.433809e+04    3106.426507   2016.147899  \n",
              "std    9.862424e+05  7.461785e+05  2.439660e+05   17692.894652      0.939938  \n",
              "min    0.000000e+00  0.000000e+00  0.000000e+00       0.000000   2015.000000  \n",
              "25%    5.088640e+03  2.849420e+03  1.274700e+02       0.000000   2015.000000  \n",
              "50%    3.974383e+04  2.636282e+04  2.647710e+03       0.000000   2016.000000  \n",
              "75%    1.107834e+05  8.333767e+04  2.202925e+04     132.500000   2017.000000  \n",
              "max    1.937313e+07  1.338459e+07  5.719097e+06  551693.650000   2018.000000  "
            ]
          },
          "execution_count": 5,
          "metadata": {},
          "output_type": "execute_result"
        }
      ],
      "source": [
        "avocado_df.describe()"
      ]
    },
    {
      "cell_type": "code",
      "execution_count": null,
      "id": "03e2d41a",
      "metadata": {
        "id": "03e2d41a",
        "outputId": "e9a6ec09-20b6-4e99-f390-849085f5a2da"
      },
      "outputs": [
        {
          "data": {
            "text/plain": [
              "AveragePrice    float64\n",
              "Total Volume    float64\n",
              "4046            float64\n",
              "4225            float64\n",
              "4770            float64\n",
              "Total Bags      float64\n",
              "Small Bags      float64\n",
              "Large Bags      float64\n",
              "XLarge Bags     float64\n",
              "type             object\n",
              "year              int64\n",
              "region           object\n",
              "dtype: object"
            ]
          },
          "execution_count": 6,
          "metadata": {},
          "output_type": "execute_result"
        }
      ],
      "source": [
        "avocado_df.dtypes"
      ]
    },
    {
      "cell_type": "code",
      "execution_count": null,
      "id": "e1d792bb",
      "metadata": {
        "id": "e1d792bb",
        "outputId": "61df7b2d-8983-4964-eb07-907129c66936"
      },
      "outputs": [
        {
          "data": {
            "text/plain": [
              "75.00000020441107"
            ]
          },
          "execution_count": 7,
          "metadata": {},
          "output_type": "execute_result"
        }
      ],
      "source": [
        "difference = avocado_df['Total Bags'] - (avocado_df['Small Bags'] + avocado_df['Large Bags'] + avocado_df['XLarge Bags'])\n",
        "dist = difference.abs()\n",
        "dist.sum()"
      ]
    },
    {
      "cell_type": "code",
      "execution_count": null,
      "id": "0755e454",
      "metadata": {
        "id": "0755e454",
        "outputId": "151dbe07-4c8c-49bf-c1c1-e9cbd89f58e8"
      },
      "outputs": [
        {
          "name": "stdout",
          "output_type": "stream",
          "text": [
            "18249 14213\n"
          ]
        }
      ],
      "source": [
        "print(len(dist), sum(dist==0))"
      ]
    },
    {
      "cell_type": "code",
      "execution_count": null,
      "id": "a5514c40",
      "metadata": {
        "id": "a5514c40",
        "outputId": "25cd8e55-4cbe-48c9-a3f0-988648e566de"
      },
      "outputs": [
        {
          "data": {
            "text/plain": [
              "1.0"
            ]
          },
          "execution_count": 9,
          "metadata": {},
          "output_type": "execute_result"
        }
      ],
      "source": [
        "max(dist)"
      ]
    },
    {
      "cell_type": "markdown",
      "id": "20099644",
      "metadata": {
        "id": "20099644"
      },
      "source": [
        "#### Drop the unnecessary columns, if any. "
      ]
    },
    {
      "cell_type": "code",
      "execution_count": null,
      "id": "6881e368",
      "metadata": {
        "id": "6881e368"
      },
      "outputs": [],
      "source": [
        "avocado_df.drop(columns='Total Bags', inplace=True)"
      ]
    },
    {
      "cell_type": "markdown",
      "id": "ac07e534",
      "metadata": {
        "id": "ac07e534"
      },
      "source": [
        "#### Choose the 'AveragePrice' column as your target (y) variable."
      ]
    },
    {
      "cell_type": "code",
      "execution_count": null,
      "id": "efa5fbad",
      "metadata": {
        "id": "efa5fbad"
      },
      "outputs": [],
      "source": [
        "y = avocado_df['AveragePrice']\n",
        "X = avocado_df.iloc[:, 1:]"
      ]
    },
    {
      "cell_type": "markdown",
      "id": "cc5b500d",
      "metadata": {
        "id": "cc5b500d"
      },
      "source": [
        "#### Plot the relationship of each of the numerical features with the target variable"
      ]
    },
    {
      "cell_type": "code",
      "execution_count": null,
      "id": "f3df495f",
      "metadata": {
        "id": "f3df495f",
        "outputId": "dda1552e-8bf0-4c92-e532-2370d83ef8af"
      },
      "outputs": [
        {
          "data": {
            "image/png": "[encoded data removed]",
            "text/plain": [
              "<Figure size 432x288 with 1 Axes>"
            ]
          },
          "metadata": {
            "needs_background": "light"
          },
          "output_type": "display_data"
        },
        {
          "data": {
            "image/png": "[encoded data removed]",
            "text/plain": [
              "<Figure size 432x288 with 1 Axes>"
            ]
          },
          "metadata": {
            "needs_background": "light"
          },
          "output_type": "display_data"
        },
        {
          "data": {
            "image/png": "[encoded data removed]",
            "text/plain": [
              "<Figure size 432x288 with 1 Axes>"
            ]
          },
          "metadata": {
            "needs_background": "light"
          },
          "output_type": "display_data"
        },
        {
          "data": {
            "image/png": "[encoded data removed]",
            "text/plain": [
              "<Figure size 432x288 with 1 Axes>"
            ]
          },
          "metadata": {
            "needs_background": "light"
          },
          "output_type": "display_data"
        },
        {
          "data": {
            "image/png": "[encoded data removed]",
            "text/plain": [
              "<Figure size 432x288 with 1 Axes>"
            ]
          },
          "metadata": {
            "needs_background": "light"
          },
          "output_type": "display_data"
        },
        {
          "data": {
            "image/png": "[encoded data removed]",
            "text/plain": [
              "<Figure size 432x288 with 1 Axes>"
            ]
          },
          "metadata": {
            "needs_background": "light"
          },
          "output_type": "display_data"
        },
        {
          "data": {
            "image/png": "[encoded data removed]",
            "text/plain": [
              "<Figure size 432x288 with 1 Axes>"
            ]
          },
          "metadata": {
            "needs_background": "light"
          },
          "output_type": "display_data"
        },
        {
          "data": {
            "image/png": "[encoded data removed]",
            "text/plain": [
              "<Figure size 432x288 with 1 Axes>"
            ]
          },
          "metadata": {
            "needs_background": "light"
          },
          "output_type": "display_data"
        }
      ],
      "source": [
        "for num_col in X.select_dtypes(include=np.number):\n",
        "    plt.scatter(X[num_col], y)\n",
        "    plt.xlabel(num_col)\n",
        "    plt.ylabel('AveragePrice')\n",
        "    plt.show()"
      ]
    },
    {
      "cell_type": "markdown",
      "id": "32b69b87",
      "metadata": {
        "id": "32b69b87"
      },
      "source": [
        "#### Convert categorical variables to numeric. \n",
        "#### Note: variables with little amount of unique values are better to be considered categoricals."
      ]
    },
    {
      "cell_type": "code",
      "execution_count": null,
      "id": "2f8fdf40",
      "metadata": {
        "id": "2f8fdf40",
        "outputId": "23181940-23c8-4111-f0dc-c9ea7615833f"
      },
      "outputs": [
        {
          "data": {
            "text/html": [
              "<div>\n",
              "<style scoped>\n",
              "    .dataframe tbody tr th:only-of-type {\n",
              "        vertical-align: middle;\n",
              "    }\n",
              "\n",
              "    .dataframe tbody tr th {\n",
              "        vertical-align: top;\n",
              "    }\n",
              "\n",
              "    .dataframe thead th {\n",
              "        text-align: right;\n",
              "    }\n",
              "</style>\n",
              "<table border=\"1\" class=\"dataframe\">\n",
              "  <thead>\n",
              "    <tr style=\"text-align: right;\">\n",
              "      <th></th>\n",
              "      <th>2015</th>\n",
              "      <th>2016</th>\n",
              "      <th>2017</th>\n",
              "      <th>2018</th>\n",
              "    </tr>\n",
              "  </thead>\n",
              "  <tbody>\n",
              "    <tr>\n",
              "      <th>0</th>\n",
              "      <td>1</td>\n",
              "      <td>0</td>\n",
              "      <td>0</td>\n",
              "      <td>0</td>\n",
              "    </tr>\n",
              "    <tr>\n",
              "      <th>1</th>\n",
              "      <td>1</td>\n",
              "      <td>0</td>\n",
              "      <td>0</td>\n",
              "      <td>0</td>\n",
              "    </tr>\n",
              "    <tr>\n",
              "      <th>2</th>\n",
              "      <td>1</td>\n",
              "      <td>0</td>\n",
              "      <td>0</td>\n",
              "      <td>0</td>\n",
              "    </tr>\n",
              "    <tr>\n",
              "      <th>3</th>\n",
              "      <td>1</td>\n",
              "      <td>0</td>\n",
              "      <td>0</td>\n",
              "      <td>0</td>\n",
              "    </tr>\n",
              "    <tr>\n",
              "      <th>4</th>\n",
              "      <td>1</td>\n",
              "      <td>0</td>\n",
              "      <td>0</td>\n",
              "      <td>0</td>\n",
              "    </tr>\n",
              "    <tr>\n",
              "      <th>...</th>\n",
              "      <td>...</td>\n",
              "      <td>...</td>\n",
              "      <td>...</td>\n",
              "      <td>...</td>\n",
              "    </tr>\n",
              "    <tr>\n",
              "      <th>7</th>\n",
              "      <td>0</td>\n",
              "      <td>0</td>\n",
              "      <td>0</td>\n",
              "      <td>1</td>\n",
              "    </tr>\n",
              "    <tr>\n",
              "      <th>8</th>\n",
              "      <td>0</td>\n",
              "      <td>0</td>\n",
              "      <td>0</td>\n",
              "      <td>1</td>\n",
              "    </tr>\n",
              "    <tr>\n",
              "      <th>9</th>\n",
              "      <td>0</td>\n",
              "      <td>0</td>\n",
              "      <td>0</td>\n",
              "      <td>1</td>\n",
              "    </tr>\n",
              "    <tr>\n",
              "      <th>10</th>\n",
              "      <td>0</td>\n",
              "      <td>0</td>\n",
              "      <td>0</td>\n",
              "      <td>1</td>\n",
              "    </tr>\n",
              "    <tr>\n",
              "      <th>11</th>\n",
              "      <td>0</td>\n",
              "      <td>0</td>\n",
              "      <td>0</td>\n",
              "      <td>1</td>\n",
              "    </tr>\n",
              "  </tbody>\n",
              "</table>\n",
              "<p>18249 rows × 4 columns</p>\n",
              "</div>"
            ],
            "text/plain": [
              "    2015  2016  2017  2018\n",
              "0      1     0     0     0\n",
              "1      1     0     0     0\n",
              "2      1     0     0     0\n",
              "3      1     0     0     0\n",
              "4      1     0     0     0\n",
              "..   ...   ...   ...   ...\n",
              "7      0     0     0     1\n",
              "8      0     0     0     1\n",
              "9      0     0     0     1\n",
              "10     0     0     0     1\n",
              "11     0     0     0     1\n",
              "\n",
              "[18249 rows x 4 columns]"
            ]
          },
          "execution_count": 13,
          "metadata": {},
          "output_type": "execute_result"
        }
      ],
      "source": [
        "pd.get_dummies(X['year'])"
      ]
    },
    {
      "cell_type": "code",
      "execution_count": null,
      "id": "52f2aaa2",
      "metadata": {
        "id": "52f2aaa2"
      },
      "outputs": [],
      "source": [
        "years = np.unique(X['year'])\n",
        "for year in years:\n",
        "    new_year = 'year' + str(year)\n",
        "    X[new_year] = 0\n",
        "    X.loc[X['year'] == year, new_year] = 1\n",
        "X.drop(columns='year', inplace=True)"
      ]
    },
    {
      "cell_type": "code",
      "execution_count": null,
      "id": "9c498572",
      "metadata": {
        "id": "9c498572"
      },
      "outputs": [],
      "source": [
        "X.loc[:, 'region'] = X.loc[:, 'region'].astype('category').cat.codes\n",
        "X.loc[:, 'type'] = X.loc[:, 'type'].astype('category').cat.codes"
      ]
    },
    {
      "cell_type": "code",
      "execution_count": null,
      "id": "15535720",
      "metadata": {
        "id": "15535720",
        "outputId": "686d7f48-3d85-474b-bed9-02ed7b143924"
      },
      "outputs": [
        {
          "data": {
            "text/html": [
              "<div>\n",
              "<style scoped>\n",
              "    .dataframe tbody tr th:only-of-type {\n",
              "        vertical-align: middle;\n",
              "    }\n",
              "\n",
              "    .dataframe tbody tr th {\n",
              "        vertical-align: top;\n",
              "    }\n",
              "\n",
              "    .dataframe thead th {\n",
              "        text-align: right;\n",
              "    }\n",
              "</style>\n",
              "<table border=\"1\" class=\"dataframe\">\n",
              "  <thead>\n",
              "    <tr style=\"text-align: right;\">\n",
              "      <th></th>\n",
              "      <th>Total Volume</th>\n",
              "      <th>4046</th>\n",
              "      <th>4225</th>\n",
              "      <th>4770</th>\n",
              "      <th>Small Bags</th>\n",
              "      <th>Large Bags</th>\n",
              "      <th>XLarge Bags</th>\n",
              "      <th>type</th>\n",
              "      <th>region</th>\n",
              "      <th>year2015</th>\n",
              "      <th>year2016</th>\n",
              "      <th>year2017</th>\n",
              "      <th>year2018</th>\n",
              "    </tr>\n",
              "  </thead>\n",
              "  <tbody>\n",
              "    <tr>\n",
              "      <th>0</th>\n",
              "      <td>64236.62</td>\n",
              "      <td>1036.74</td>\n",
              "      <td>54454.85</td>\n",
              "      <td>48.16</td>\n",
              "      <td>8603.62</td>\n",
              "      <td>93.25</td>\n",
              "      <td>0.0</td>\n",
              "      <td>0</td>\n",
              "      <td>0</td>\n",
              "      <td>1</td>\n",
              "      <td>0</td>\n",
              "      <td>0</td>\n",
              "      <td>0</td>\n",
              "    </tr>\n",
              "    <tr>\n",
              "      <th>1</th>\n",
              "      <td>54876.98</td>\n",
              "      <td>674.28</td>\n",
              "      <td>44638.81</td>\n",
              "      <td>58.33</td>\n",
              "      <td>9408.07</td>\n",
              "      <td>97.49</td>\n",
              "      <td>0.0</td>\n",
              "      <td>0</td>\n",
              "      <td>0</td>\n",
              "      <td>1</td>\n",
              "      <td>0</td>\n",
              "      <td>0</td>\n",
              "      <td>0</td>\n",
              "    </tr>\n",
              "    <tr>\n",
              "      <th>2</th>\n",
              "      <td>118220.22</td>\n",
              "      <td>794.70</td>\n",
              "      <td>109149.67</td>\n",
              "      <td>130.50</td>\n",
              "      <td>8042.21</td>\n",
              "      <td>103.14</td>\n",
              "      <td>0.0</td>\n",
              "      <td>0</td>\n",
              "      <td>0</td>\n",
              "      <td>1</td>\n",
              "      <td>0</td>\n",
              "      <td>0</td>\n",
              "      <td>0</td>\n",
              "    </tr>\n",
              "    <tr>\n",
              "      <th>3</th>\n",
              "      <td>78992.15</td>\n",
              "      <td>1132.00</td>\n",
              "      <td>71976.41</td>\n",
              "      <td>72.58</td>\n",
              "      <td>5677.40</td>\n",
              "      <td>133.76</td>\n",
              "      <td>0.0</td>\n",
              "      <td>0</td>\n",
              "      <td>0</td>\n",
              "      <td>1</td>\n",
              "      <td>0</td>\n",
              "      <td>0</td>\n",
              "      <td>0</td>\n",
              "    </tr>\n",
              "    <tr>\n",
              "      <th>4</th>\n",
              "      <td>51039.60</td>\n",
              "      <td>941.48</td>\n",
              "      <td>43838.39</td>\n",
              "      <td>75.78</td>\n",
              "      <td>5986.26</td>\n",
              "      <td>197.69</td>\n",
              "      <td>0.0</td>\n",
              "      <td>0</td>\n",
              "      <td>0</td>\n",
              "      <td>1</td>\n",
              "      <td>0</td>\n",
              "      <td>0</td>\n",
              "      <td>0</td>\n",
              "    </tr>\n",
              "    <tr>\n",
              "      <th>...</th>\n",
              "      <td>...</td>\n",
              "      <td>...</td>\n",
              "      <td>...</td>\n",
              "      <td>...</td>\n",
              "      <td>...</td>\n",
              "      <td>...</td>\n",
              "      <td>...</td>\n",
              "      <td>...</td>\n",
              "      <td>...</td>\n",
              "      <td>...</td>\n",
              "      <td>...</td>\n",
              "      <td>...</td>\n",
              "      <td>...</td>\n",
              "    </tr>\n",
              "    <tr>\n",
              "      <th>7</th>\n",
              "      <td>17074.83</td>\n",
              "      <td>2046.96</td>\n",
              "      <td>1529.20</td>\n",
              "      <td>0.00</td>\n",
              "      <td>13066.82</td>\n",
              "      <td>431.85</td>\n",
              "      <td>0.0</td>\n",
              "      <td>1</td>\n",
              "      <td>53</td>\n",
              "      <td>0</td>\n",
              "      <td>0</td>\n",
              "      <td>0</td>\n",
              "      <td>1</td>\n",
              "    </tr>\n",
              "    <tr>\n",
              "      <th>8</th>\n",
              "      <td>13888.04</td>\n",
              "      <td>1191.70</td>\n",
              "      <td>3431.50</td>\n",
              "      <td>0.00</td>\n",
              "      <td>8940.04</td>\n",
              "      <td>324.80</td>\n",
              "      <td>0.0</td>\n",
              "      <td>1</td>\n",
              "      <td>53</td>\n",
              "      <td>0</td>\n",
              "      <td>0</td>\n",
              "      <td>0</td>\n",
              "      <td>1</td>\n",
              "    </tr>\n",
              "    <tr>\n",
              "      <th>9</th>\n",
              "      <td>13766.76</td>\n",
              "      <td>1191.92</td>\n",
              "      <td>2452.79</td>\n",
              "      <td>727.94</td>\n",
              "      <td>9351.80</td>\n",
              "      <td>42.31</td>\n",
              "      <td>0.0</td>\n",
              "      <td>1</td>\n",
              "      <td>53</td>\n",
              "      <td>0</td>\n",
              "      <td>0</td>\n",
              "      <td>0</td>\n",
              "      <td>1</td>\n",
              "    </tr>\n",
              "    <tr>\n",
              "      <th>10</th>\n",
              "      <td>16205.22</td>\n",
              "      <td>1527.63</td>\n",
              "      <td>2981.04</td>\n",
              "      <td>727.01</td>\n",
              "      <td>10919.54</td>\n",
              "      <td>50.00</td>\n",
              "      <td>0.0</td>\n",
              "      <td>1</td>\n",
              "      <td>53</td>\n",
              "      <td>0</td>\n",
              "      <td>0</td>\n",
              "      <td>0</td>\n",
              "      <td>1</td>\n",
              "    </tr>\n",
              "    <tr>\n",
              "      <th>11</th>\n",
              "      <td>17489.58</td>\n",
              "      <td>2894.77</td>\n",
              "      <td>2356.13</td>\n",
              "      <td>224.53</td>\n",
              "      <td>11988.14</td>\n",
              "      <td>26.01</td>\n",
              "      <td>0.0</td>\n",
              "      <td>1</td>\n",
              "      <td>53</td>\n",
              "      <td>0</td>\n",
              "      <td>0</td>\n",
              "      <td>0</td>\n",
              "      <td>1</td>\n",
              "    </tr>\n",
              "  </tbody>\n",
              "</table>\n",
              "<p>18249 rows × 13 columns</p>\n",
              "</div>"
            ],
            "text/plain": [
              "    Total Volume     4046       4225    4770  Small Bags  Large Bags  \\\n",
              "0       64236.62  1036.74   54454.85   48.16     8603.62       93.25   \n",
              "1       54876.98   674.28   44638.81   58.33     9408.07       97.49   \n",
              "2      118220.22   794.70  109149.67  130.50     8042.21      103.14   \n",
              "3       78992.15  1132.00   71976.41   72.58     5677.40      133.76   \n",
              "4       51039.60   941.48   43838.39   75.78     5986.26      197.69   \n",
              "..           ...      ...        ...     ...         ...         ...   \n",
              "7       17074.83  2046.96    1529.20    0.00    13066.82      431.85   \n",
              "8       13888.04  1191.70    3431.50    0.00     8940.04      324.80   \n",
              "9       13766.76  1191.92    2452.79  727.94     9351.80       42.31   \n",
              "10      16205.22  1527.63    2981.04  727.01    10919.54       50.00   \n",
              "11      17489.58  2894.77    2356.13  224.53    11988.14       26.01   \n",
              "\n",
              "    XLarge Bags  type  region  year2015  year2016  year2017  year2018  \n",
              "0           0.0     0       0         1         0         0         0  \n",
              "1           0.0     0       0         1         0         0         0  \n",
              "2           0.0     0       0         1         0         0         0  \n",
              "3           0.0     0       0         1         0         0         0  \n",
              "4           0.0     0       0         1         0         0         0  \n",
              "..          ...   ...     ...       ...       ...       ...       ...  \n",
              "7           0.0     1      53         0         0         0         1  \n",
              "8           0.0     1      53         0         0         0         1  \n",
              "9           0.0     1      53         0         0         0         1  \n",
              "10          0.0     1      53         0         0         0         1  \n",
              "11          0.0     1      53         0         0         0         1  \n",
              "\n",
              "[18249 rows x 13 columns]"
            ]
          },
          "execution_count": 16,
          "metadata": {},
          "output_type": "execute_result"
        }
      ],
      "source": [
        "X"
      ]
    },
    {
      "cell_type": "markdown",
      "id": "90806197",
      "metadata": {
        "id": "90806197"
      },
      "source": [
        "#### Divide data into Train and Test sets with the ratio 80:20."
      ]
    },
    {
      "cell_type": "code",
      "execution_count": null,
      "id": "67c52683",
      "metadata": {
        "id": "67c52683",
        "outputId": "ad45ee8f-a6b8-4d3a-d7d8-a6959a52f68b"
      },
      "outputs": [
        {
          "data": {
            "text/plain": [
              "((14599, 13), (3650, 13))"
            ]
          },
          "execution_count": 17,
          "metadata": {},
          "output_type": "execute_result"
        }
      ],
      "source": [
        "X_train, X_test, y_train, y_test = train_test_split(X, y, train_size=0.8, random_state = 20)\n",
        "X_train.shape, X_test.shape"
      ]
    },
    {
      "cell_type": "markdown",
      "id": "88f36d5e",
      "metadata": {
        "id": "88f36d5e"
      },
      "source": [
        "#### Train linear Regression model using the training set"
      ]
    },
    {
      "cell_type": "code",
      "execution_count": null,
      "id": "87573dd6",
      "metadata": {
        "id": "87573dd6",
        "outputId": "72fb4270-4995-406a-8d01-417491add0be"
      },
      "outputs": [
        {
          "data": {
            "text/plain": [
              "LinearRegression()"
            ]
          },
          "execution_count": 18,
          "metadata": {},
          "output_type": "execute_result"
        }
      ],
      "source": [
        "regression = LinearRegression()\n",
        "regression.fit(X_train.to_numpy(), y_train.to_numpy())"
      ]
    },
    {
      "cell_type": "markdown",
      "id": "6d4eab61-41f8-4a04-9cf0-368cf0334073",
      "metadata": {
        "id": "6d4eab61-41f8-4a04-9cf0-368cf0334073"
      },
      "source": [
        "#### Calculate the mean squared error for the test set"
      ]
    },
    {
      "cell_type": "code",
      "execution_count": null,
      "id": "6fb1df3d",
      "metadata": {
        "id": "6fb1df3d",
        "outputId": "5d4d6a12-bbc2-4ac3-8433-8973ff4924b8"
      },
      "outputs": [
        {
          "data": {
            "text/plain": [
              "0.09024495337223984"
            ]
          },
          "execution_count": 19,
          "metadata": {},
          "output_type": "execute_result"
        }
      ],
      "source": [
        "mean_squared_error(y_test.to_numpy(), regression.predict(X_test.to_numpy()))"
      ]
    },
    {
      "cell_type": "markdown",
      "id": "760d768e-348d-4ba4-85f9-f42870b9ec8e",
      "metadata": {
        "tags": [],
        "id": "760d768e-348d-4ba4-85f9-f42870b9ec8e"
      },
      "source": [
        "#### Implement the following functions: mean_squared_error, mean_absolute_error, r2_score.\n",
        "#### Each of them should have 2 vector arguments and return the appropriate score."
      ]
    },
    {
      "cell_type": "code",
      "execution_count": null,
      "id": "af0511b5",
      "metadata": {
        "id": "af0511b5"
      },
      "outputs": [],
      "source": [
        "def mean_squared_error_2(y_test, y_pred):\n",
        "    return np.sum((y_test - y_pred)**2) / len(y_test)\n",
        "\n",
        "def mean_absolute_error_2(y_test, y_pred):\n",
        "    return np.sum(np.abs(y_test - y_pred)) / len(y_test)\n",
        "\n",
        "def TSS_2(y_test):\n",
        "    return np.sum((y_test - y_test.mean())**2)\n",
        "\n",
        "def RSS_2(y_test, y_pred):\n",
        "    return np.sum((y_test - y_pred)**2)\n",
        "\n",
        "def r2_score_2(y_test, y_pred):\n",
        "    return 1 - RSS_2(y_test, y_pred) / TSS_2(y_test)"
      ]
    },
    {
      "cell_type": "markdown",
      "id": "fc73f084-691b-4707-aedf-49d10564df73",
      "metadata": {
        "id": "fc73f084-691b-4707-aedf-49d10564df73"
      },
      "source": [
        "#### Compare the resulting scores of your functions and the scores of corresponding sklearn functions for the test set. They should be the same."
      ]
    },
    {
      "cell_type": "code",
      "execution_count": null,
      "id": "2b4ae55d",
      "metadata": {
        "id": "2b4ae55d",
        "outputId": "d1ddaff1-f0af-41e9-cf48-c917b48b66b2"
      },
      "outputs": [
        {
          "name": "stdout",
          "output_type": "stream",
          "text": [
            "mean_squared_error  0.09024495337223984\n",
            "mean_squared_error_2  0.09024495337223984\n",
            "\n",
            "mean_absolute_error  0.22867581841155427\n",
            "mean_absolute_error_2  0.22867581841155427\n",
            "\n",
            "r2_score  0.4571161433951566\n",
            "r2_score_2  0.4571161433951566\n"
          ]
        }
      ],
      "source": [
        "y_pred = regression.predict(X_test.to_numpy())\n",
        "\n",
        "print(\"mean_squared_error\", mean_squared_error(y_test, y_pred), sep='  ')\n",
        "print(\"mean_squared_error_2\", mean_squared_error_2(y_test, y_pred), sep='  ', end='\\n\\n')\n",
        "print(\"mean_absolute_error\", mean_absolute_error(y_test, y_pred),sep='  ')\n",
        "print(\"mean_absolute_error_2\", mean_absolute_error_2(y_test, y_pred), sep='  ', end='\\n\\n')\n",
        "print(\"r2_score\", r2_score(y_test, y_pred), sep='  ')\n",
        "print(\"r2_score_2\", r2_score_2(y_test, y_pred), sep='  ')"
      ]
    }
  ],
  "metadata": {
    "kernelspec": {
      "display_name": "Python 3 (ipykernel)",
      "language": "python",
      "name": "python3"
    },
    "language_info": {
      "codemirror_mode": {
        "name": "ipython",
        "version": 3
      },
      "file_extension": ".py",
      "mimetype": "text/x-python",
      "name": "python",
      "nbconvert_exporter": "python",
      "pygments_lexer": "ipython3",
      "version": "3.9.10"
    },
    "colab": {
      "name": "Avocado_Average_Price.ipynb",
      "provenance": [],
      "include_colab_link": true
    }
  },
  "nbformat": 4,
  "nbformat_minor": 5
}