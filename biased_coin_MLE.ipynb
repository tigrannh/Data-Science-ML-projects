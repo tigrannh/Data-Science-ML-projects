{
  "cells": [
    {
      "cell_type": "markdown",
      "metadata": {
        "id": "view-in-github",
        "colab_type": "text"
      },
      "source": [
        "<a href=\"https://colab.research.google.com/github/tigrannh/Data-Science-ML-projects/blob/main/biased_coin_MLE.ipynb\" target=\"_parent\"><img src=\"https://colab.research.google.com/assets/colab-badge.svg\" alt=\"Open In Colab\"/></a>"
      ]
    },
    {
      "cell_type": "markdown",
      "metadata": {
        "id": "rFuWXmW9g6Jm"
      },
      "source": [
        "# Probabilistic Inference"
      ]
    },
    {
      "cell_type": "code",
      "execution_count": null,
      "metadata": {
        "id": "XFhe1-4_g6Jr"
      },
      "outputs": [],
      "source": [
        "import numpy as np\n",
        "import matplotlib.pyplot as plt\n",
        "\n",
        "%matplotlib inline"
      ]
    },
    {
      "cell_type": "markdown",
      "metadata": {
        "id": "suu29ukhg6Jt"
      },
      "source": [
        "## Simulating data\n",
        "The following function simulates flipping a biased coin. "
      ]
    },
    {
      "cell_type": "code",
      "execution_count": null,
      "metadata": {
        "id": "wS6WxuK2g6Jt"
      },
      "outputs": [],
      "source": [
        "# This function is given, nothing to do here.\n",
        "def simulate_data(num_samples, tails_proba):\n",
        "    \"\"\"Simulate a sequence of i.i.d. coin flips.\n",
        "    \n",
        "    Tails are denoted as 1 and heads are denoted as 0.\n",
        "    \n",
        "    Parameters\n",
        "    ----------\n",
        "    num_samples : int\n",
        "        Number of samples to generate.\n",
        "    tails_proba : float in range (0, 1)\n",
        "        Probability of observing tails.\n",
        "    \n",
        "    Returns\n",
        "    -------\n",
        "    samples : array, shape (num_samples)\n",
        "        Outcomes of simulated coin flips. Tails is 1 and heads is 0.\n",
        "    \"\"\"\n",
        "    return np.random.choice([0, 1], size=(num_samples), p=[1 - tails_proba, tails_proba])"
      ]
    },
    {
      "cell_type": "code",
      "execution_count": null,
      "metadata": {
        "id": "ME_U0zgSg6Ju",
        "outputId": "8748e252-8389-484d-af9a-0861118830ef",
        "colab": {
          "base_uri": "https://localhost:8080/"
        }
      },
      "outputs": [
        {
          "output_type": "stream",
          "name": "stdout",
          "text": [
            "[1 0 0 1 1 1 1 1 1 1 1 1 1 0 1 1 0 0 1 1]\n"
          ]
        }
      ],
      "source": [
        "np.random.seed(123)  # for reproducibility\n",
        "num_samples = 20\n",
        "tails_proba = 0.7 # theta\n",
        "samples = simulate_data(num_samples, tails_proba)\n",
        "print(samples)"
      ]
    },
    {
      "cell_type": "markdown",
      "metadata": {
        "id": "aN05aBi2g6Jw"
      },
      "source": [
        "## Task 1: Compute $\\log p(\\mathcal{D} \\mid \\theta)$ for different values of $\\theta$"
      ]
    },
    {
      "cell_type": "code",
      "execution_count": null,
      "metadata": {
        "id": "IHD-Wih5g6Jw"
      },
      "outputs": [],
      "source": [
        "def compute_log_likelihood(theta, samples):\n",
        "    \"\"\"Compute log p(D | theta) for the given values of theta.\n",
        "    \n",
        "    Parameters\n",
        "    ----------\n",
        "    theta : array, shape (num_points)\n",
        "        Values of theta for which it's necessary to evaluate the log-likelihood.\n",
        "    samples : array, shape (num_samples)\n",
        "        Outcomes of simulated coin flips. Tails is 1 and heads is 0.\n",
        "    \n",
        "    Returns\n",
        "    -------\n",
        "    log_likelihood : array, shape (num_points)\n",
        "        Values of log-likelihood for each value in theta.\n",
        "    \"\"\"\n",
        "    \n",
        "    #Todo\n",
        "    countOfTails = sum(samples)\n",
        "    return countOfTails*np.log(theta) + (len(samples) - countOfTails)*np.log(1- theta)\n",
        "    "
      ]
    },
    {
      "cell_type": "code",
      "execution_count": null,
      "metadata": {
        "id": "RVvM5Wn3g6Jx",
        "outputId": "8bd2d115-028b-4297-ae41-b9c267fcb825",
        "colab": {
          "base_uri": "https://localhost:8080/",
          "height": 293
        }
      },
      "outputs": [
        {
          "output_type": "execute_result",
          "data": {
            "text/plain": [
              "<matplotlib.legend.Legend at 0x7f4d6ae4a810>"
            ]
          },
          "metadata": {},
          "execution_count": 5
        },
        {
          "output_type": "display_data",
          "data": {
            "text/plain": [
              "<Figure size 432x288 with 1 Axes>"
            ],
            "image/png": "[encoded data removed]"
          },
          "metadata": {
            "needs_background": "light"
          }
        }
      ],
      "source": [
        "x = np.linspace(1e-5, 1-1e-5, 1000)\n",
        "log_likelihood = compute_log_likelihood(x, samples)\n",
        "likelihood = np.exp(log_likelihood)\n",
        "plt.plot(x, likelihood, label='likelihood', c='purple')\n",
        "plt.legend()"
      ]
    },
    {
      "cell_type": "code",
      "execution_count": null,
      "metadata": {
        "id": "Uq0fMerxg6Jy",
        "outputId": "774a3a8a-fe52-4a0e-f832-9b15bdc7e30a",
        "colab": {
          "base_uri": "https://localhost:8080/"
        }
      },
      "outputs": [
        {
          "output_type": "stream",
          "name": "stdout",
          "text": [
            "Integral = 3.068e-06\n"
          ]
        }
      ],
      "source": [
        "# likelihood function doesn't define a probability distribution over theta. To show that we approximate its integral\n",
        "# 1.0 is the length of the interval over which we are integrating p(D | theta)\n",
        "int_likelihood = 1.0 * np.mean(likelihood)\n",
        "print(f'Integral = {int_likelihood:.4}')"
      ]
    },
    {
      "cell_type": "markdown",
      "metadata": {
        "id": "BXdPHjVNg6Jz"
      },
      "source": [
        "## Task 2: Compute $\\theta_{MLE}$"
      ]
    },
    {
      "cell_type": "code",
      "execution_count": null,
      "metadata": {
        "id": "CLf-uP-6g6J0"
      },
      "outputs": [],
      "source": [
        "def compute_theta_mle(samples):\n",
        "    \"\"\"Compute theta_MLE for the given data.\n",
        "    \n",
        "    Parameters\n",
        "    ----------\n",
        "    samples : array, shape (num_samples)\n",
        "        Outcomes of simulated coin flips. Tails is 1 and heads is 0.\n",
        "    \n",
        "    Returns\n",
        "    -------\n",
        "    theta_mle : float\n",
        "        Maximum likelihood estimate of theta.\n",
        "    \"\"\"\n",
        "    \n",
        "    #Todo\n",
        "    return sum(samples) / len(samples)\n",
        "    "
      ]
    },
    {
      "cell_type": "code",
      "execution_count": null,
      "metadata": {
        "id": "w4YRTgF_g6J0",
        "outputId": "8c2aa264-da9b-4024-9602-a9c4522e1fe7",
        "colab": {
          "base_uri": "https://localhost:8080/"
        }
      },
      "outputs": [
        {
          "output_type": "stream",
          "name": "stdout",
          "text": [
            "theta_mle = 0.750\n"
          ]
        }
      ],
      "source": [
        "theta_mle = compute_theta_mle(samples)\n",
        "print(f'theta_mle = {theta_mle:.3f}')"
      ]
    }
  ],
  "metadata": {
    "kernelspec": {
      "display_name": "Python 3",
      "language": "python",
      "name": "python3"
    },
    "language_info": {
      "codemirror_mode": {
        "name": "ipython",
        "version": 3
      },
      "file_extension": ".py",
      "mimetype": "text/x-python",
      "name": "python",
      "nbconvert_exporter": "python",
      "pygments_lexer": "ipython3",
      "version": "3.6.7"
    },
    "toc": {
      "colors": {
        "hover_highlight": "#DAA520",
        "navigate_num": "#000000",
        "navigate_text": "#333333",
        "running_highlight": "#FF0000",
        "selected_highlight": "#FFD700",
        "sidebar_border": "#EEEEEE",
        "wrapper_background": "#FFFFFF"
      },
      "moveMenuLeft": true,
      "nav_menu": {
        "height": "207px",
        "width": "252px"
      },
      "navigate_menu": true,
      "number_sections": true,
      "sideBar": true,
      "threshold": 4,
      "toc_cell": false,
      "toc_section_display": "block",
      "toc_window_display": false,
      "widenNotebook": false
    },
    "colab": {
      "name": "biased_coin_MLE.ipynb",
      "provenance": [],
      "toc_visible": true,
      "include_colab_link": true
    }
  },
  "nbformat": 4,
  "nbformat_minor": 0
}