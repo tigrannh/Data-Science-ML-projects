{
  "cells": [
    {
      "cell_type": "markdown",
      "metadata": {
        "id": "view-in-github",
        "colab_type": "text"
      },
      "source": [
        "<a href=\"https://colab.research.google.com/github/tigrannh/Data-Science-ML-projects/blob/main/feature_scaling.ipynb\" target=\"_parent\"><img src=\"https://colab.research.google.com/assets/colab-badge.svg\" alt=\"Open In Colab\"/></a>"
      ]
    },
    {
      "cell_type": "markdown",
      "metadata": {
        "heading_collapsed": true,
        "id": "pgThk8-nBEHX"
      },
      "source": [
        "# Feature scaling"
      ]
    },
    {
      "cell_type": "markdown",
      "metadata": {
        "id": "47xEEHlnBEHc"
      },
      "source": [
        "#### Below are the functions for performing logistic regression using gradient descent from the previous homework"
      ]
    },
    {
      "cell_type": "code",
      "execution_count": null,
      "metadata": {
        "hidden": true,
        "id": "j_rG7n3JBEHd"
      },
      "outputs": [],
      "source": [
        "import numpy as np\n",
        "import matplotlib.pyplot as plt\n",
        "%matplotlib inline\n",
        "\n",
        "from sklearn.datasets import load_breast_cancer\n",
        "from sklearn.model_selection import train_test_split\n",
        "from sklearn.metrics import accuracy_score, f1_score"
      ]
    },
    {
      "cell_type": "code",
      "execution_count": null,
      "metadata": {
        "hidden": true,
        "tags": [],
        "id": "pfm2UDpXBEHe"
      },
      "outputs": [],
      "source": [
        "X, y = load_breast_cancer(return_X_y=True)\n",
        "\n",
        "# Add a vector of ones to the data matrix to absorb the bias term\n",
        "X = np.hstack([np.ones([X.shape[0], 1]), X])\n",
        "\n",
        "# Set the random seed so that we have reproducible experiments\n",
        "np.random.seed(123)\n",
        "\n",
        "# Split into train and test\n",
        "test_size = 0.3\n",
        "X_train, X_test, y_train, y_test = train_test_split(X, y, test_size=test_size)"
      ]
    },
    {
      "cell_type": "code",
      "execution_count": null,
      "metadata": {
        "hidden": true,
        "tags": [],
        "id": "v35PNxolBEHf"
      },
      "outputs": [],
      "source": [
        "def sigmoid(t):\n",
        "    return 1.0 / (1 + np.exp(-t))"
      ]
    },
    {
      "cell_type": "code",
      "execution_count": null,
      "metadata": {
        "hidden": true,
        "tags": [],
        "id": "82UuH9TxBEHf"
      },
      "outputs": [],
      "source": [
        "def negative_log_likelihood(X, y, w):\n",
        "    nll = - ( y @ np.log(sigmoid(w @ X.T)).T + (1 - y) @ (np.log(1 - sigmoid(w @ X.T))).T)\n",
        "    return nll"
      ]
    },
    {
      "cell_type": "code",
      "execution_count": null,
      "metadata": {
        "hidden": true,
        "tags": [],
        "id": "HDBsWUFfBEHf"
      },
      "outputs": [],
      "source": [
        "def compute_loss(X, y, w, lmbda):\n",
        "    return negative_log_likelihood(X, y, w) / len(y) + lmbda * 0.5 * np.linalg.norm(w[1:])**2"
      ]
    },
    {
      "cell_type": "code",
      "execution_count": null,
      "metadata": {
        "hidden": true,
        "tags": [],
        "id": "lulgH6MtBEHg"
      },
      "outputs": [],
      "source": [
        "def get_gradient(X, y, w, mini_batch_indices, lmbda):\n",
        "    n_batch = mini_batch_indices.shape[0]\n",
        "    nll_gradient = np.dot(X[mini_batch_indices].T,sigmoid(np.dot(X[mini_batch_indices], w)) - y[mini_batch_indices])\n",
        "    ones = np.ones(w.shape)\n",
        "    ones[0] = 0\n",
        "    reg_gradient = lmbda * ones * w\n",
        "    grad = nll_gradient / n_batch + reg_gradient  \n",
        "    return grad"
      ]
    },
    {
      "cell_type": "code",
      "execution_count": null,
      "metadata": {
        "hidden": true,
        "tags": [],
        "id": "v7pamjEOBEHh"
      },
      "outputs": [],
      "source": [
        "def logistic_regression(X, y, num_steps, learning_rate, mini_batch_size, lmbda, verbose):\n",
        "    trace = []\n",
        "    n_train = X.shape[0] \n",
        "    \n",
        "    w = np.zeros(X.shape[1])\n",
        "    \n",
        "    for step in range(num_steps):\n",
        "        permuted_idx = np.random.permutation(n_train)\n",
        "        \n",
        "        for idx in range(0, n_train, mini_batch_size):\n",
        "            mini_batch_indices = permuted_idx[idx:idx+mini_batch_size]\n",
        "            gradient = get_gradient(X, y, w, mini_batch_indices, lmbda)\n",
        "            w = w - learning_rate * gradient\n",
        "        \n",
        "        if step % 50 == 0:\n",
        "            loss = compute_loss(X, y, w, lmbda)\n",
        "            trace.append(loss)\n",
        "            if verbose:\n",
        "                print('Step {0}, loss = {1:.4f}'.format(step, loss))\n",
        "    return w, trace"
      ]
    },
    {
      "cell_type": "code",
      "execution_count": null,
      "metadata": {
        "hidden": true,
        "tags": [],
        "id": "NdBT36GmBEHi"
      },
      "outputs": [],
      "source": [
        "def predict(X, w):\n",
        "    return (sigmoid(np.dot(X, w)) > 0.5).astype(np.int)"
      ]
    },
    {
      "cell_type": "markdown",
      "metadata": {
        "hidden": true,
        "id": "cpGPBhsUBEHi"
      },
      "source": [
        "## running and observing results"
      ]
    },
    {
      "cell_type": "code",
      "execution_count": null,
      "metadata": {
        "hidden": true,
        "tags": [],
        "id": "F_hy2WMdBEHj"
      },
      "outputs": [],
      "source": [
        "# Change this to True if you want to see loss values over iterations.\n",
        "verbose = False"
      ]
    },
    {
      "cell_type": "code",
      "execution_count": null,
      "metadata": {
        "hidden": true,
        "tags": [],
        "id": "sFziMxE7BEHj"
      },
      "outputs": [],
      "source": [
        "n_train = X_train.shape[0]\n",
        "w_full, trace_full = logistic_regression(X_train, \n",
        "                                         y_train, \n",
        "                                         num_steps=8000, \n",
        "                                         learning_rate=1e-5, \n",
        "                                         mini_batch_size=n_train, \n",
        "                                         lmbda=0.1,\n",
        "                                         verbose=verbose)"
      ]
    },
    {
      "cell_type": "code",
      "execution_count": null,
      "metadata": {
        "hidden": true,
        "tags": [],
        "id": "s_FvrZHRBEHj"
      },
      "outputs": [],
      "source": [
        "n_train = X_train.shape[0]\n",
        "w_minibatch, trace_minibatch = logistic_regression(X_train, \n",
        "                                                   y_train, \n",
        "                                                   num_steps=8000, \n",
        "                                                   learning_rate=1e-5,\n",
        "                                                   mini_batch_size=50, \n",
        "                                                   lmbda=0.1,\n",
        "                                                   verbose=verbose)"
      ]
    },
    {
      "cell_type": "code",
      "execution_count": null,
      "metadata": {
        "hidden": true,
        "tags": [],
        "id": "mbEOXblOBEHk",
        "outputId": "f4b70be5-0e65-48bc-fe74-91cc86552a4a",
        "colab": {
          "base_uri": "https://localhost:8080/"
        }
      },
      "outputs": [
        {
          "output_type": "stream",
          "name": "stdout",
          "text": [
            "Full batch: accuracy: 0.9240, f1_score: 0.9384\n",
            "Mini-batch: accuracy: 0.9415, f1_score: 0.9533\n"
          ]
        },
        {
          "output_type": "stream",
          "name": "stderr",
          "text": [
            "/usr/local/lib/python3.7/dist-packages/ipykernel_launcher.py:2: DeprecationWarning: `np.int` is a deprecated alias for the builtin `int`. To silence this warning, use `int` by itself. Doing this will not modify any behavior and is safe. When replacing `np.int`, you may wish to use e.g. `np.int64` or `np.int32` to specify the precision. If you wish to review your current use, check the release note link for additional information.\n",
            "Deprecated in NumPy 1.20; for more details and guidance: https://numpy.org/devdocs/release/1.20.0-notes.html#deprecations\n",
            "  \n"
          ]
        }
      ],
      "source": [
        "y_pred_full = predict(X_test, w_full)\n",
        "y_pred_minibatch = predict(X_test, w_minibatch)\n",
        "\n",
        "print('Full batch: accuracy: {:.4f}, f1_score: {:.4f}'\n",
        "      .format(accuracy_score(y_test, y_pred_full), f1_score(y_test, y_pred_full)))\n",
        "print('Mini-batch: accuracy: {:.4f}, f1_score: {:.4f}'\n",
        "      .format(accuracy_score(y_test, y_pred_minibatch), f1_score(y_test, y_pred_minibatch)))"
      ]
    },
    {
      "cell_type": "code",
      "execution_count": null,
      "metadata": {
        "hidden": true,
        "id": "3Yh22syVBEHl",
        "outputId": "b4ca0b60-7284-444b-c803-c06d726e37e4",
        "colab": {
          "base_uri": "https://localhost:8080/",
          "height": 606
        }
      },
      "outputs": [
        {
          "output_type": "display_data",
          "data": {
            "image/png": "[encoded data removed]",
            "text/plain": [
              "<Figure size 1080x720 with 1 Axes>"
            ]
          },
          "metadata": {
            "needs_background": "light"
          }
        }
      ],
      "source": [
        "plt.figure(figsize=[15, 10])\n",
        "plt.plot(trace_full, label='Full batch')\n",
        "plt.plot(trace_minibatch, label='Mini-batch')\n",
        "plt.xlabel('Iterations * 50')\n",
        "plt.ylabel('Loss $\\mathcal{L}(\\mathbf{w})$')\n",
        "plt.legend()\n",
        "plt.show()"
      ]
    },
    {
      "cell_type": "markdown",
      "metadata": {
        "id": "ZpWKt-F8BEHl"
      },
      "source": [
        "## Task 1: Apply minmax normalization on X_train and X_test data without sklearn\n",
        "#### Note: don't do it for the first column as it is the column of ones\n",
        "#### use the parameters learnt from the training data to transform the test data\n",
        "#### optionally try doing it also with sklearn"
      ]
    },
    {
      "cell_type": "code",
      "source": [
        "X_train_copy = X_train.copy()\n",
        "X_test_copy = X_test.copy()"
      ],
      "metadata": {
        "id": "aC6Wd_rFRMA_"
      },
      "execution_count": null,
      "outputs": []
    },
    {
      "cell_type": "code",
      "execution_count": null,
      "metadata": {
        "id": "BHMtE6IbBEHm"
      },
      "outputs": [],
      "source": [
        "for i in range(1, X_train_copy.shape[1]):\n",
        "  minim = X_train_copy[:,i].min()\n",
        "  maxim = X_train_copy[:,i].max()\n",
        "  X_train_copy[:,i] = (X_train_copy[:,i] - minim) / (maxim - minim)\n",
        "  X_test_copy[:,i] = (X_test_copy[:,i] - minim) / (maxim - minim)\n",
        "\n"
      ]
    },
    {
      "cell_type": "markdown",
      "metadata": {
        "id": "M4VqztYsBEHm"
      },
      "source": [
        "## Task2: Run gradient descent using the scaled dataset and see the results\n",
        "#### Note: you may change the learning rate or lambda parameters. Don't change the number of iterations to get comparable results"
      ]
    },
    {
      "cell_type": "code",
      "execution_count": null,
      "metadata": {
        "id": "ws1u3phWBEHm"
      },
      "outputs": [],
      "source": [
        "n_train = X_train_copy.shape[0]\n",
        "w_full, trace_full = logistic_regression(X_train_copy, \n",
        "                                         y_train, \n",
        "                                         num_steps=8000, \n",
        "                                         learning_rate=1e-1, \n",
        "                                         mini_batch_size=n_train, \n",
        "                                         lmbda=0.1,\n",
        "                                         verbose=verbose)\n",
        "\n",
        "\n",
        "w_minibatch, trace_minibatch = logistic_regression(X_train_copy, \n",
        "                                                   y_train, \n",
        "                                                   num_steps=8000, \n",
        "                                                   learning_rate=1e-1,\n",
        "                                                   mini_batch_size=50, \n",
        "                                                   lmbda=0.1,\n",
        "                                                   verbose=verbose)"
      ]
    },
    {
      "cell_type": "code",
      "source": [
        "y_pred_full = predict(X_test_copy, w_full)\n",
        "y_pred_minibatch = predict(X_test_copy, w_minibatch)\n",
        "\n",
        "print('Full batch: accuracy: {:.4f}, f1_score: {:.4f}'\n",
        "      .format(accuracy_score(y_test, y_pred_full), f1_score(y_test, y_pred_full)))\n",
        "print('Mini-batch: accuracy: {:.4f}, f1_score: {:.4f}'\n",
        "      .format(accuracy_score(y_test, y_pred_minibatch), f1_score(y_test, y_pred_minibatch)))"
      ],
      "metadata": {
        "colab": {
          "base_uri": "https://localhost:8080/"
        },
        "id": "8eYGs8AZQGgm",
        "outputId": "4017e59a-83f7-45d6-92d5-b2d86a922728"
      },
      "execution_count": null,
      "outputs": [
        {
          "output_type": "stream",
          "name": "stdout",
          "text": [
            "Full batch: accuracy: 0.8304, f1_score: 0.8766\n",
            "Mini-batch: accuracy: 0.8304, f1_score: 0.8766\n"
          ]
        },
        {
          "output_type": "stream",
          "name": "stderr",
          "text": [
            "/usr/local/lib/python3.7/dist-packages/ipykernel_launcher.py:2: DeprecationWarning: `np.int` is a deprecated alias for the builtin `int`. To silence this warning, use `int` by itself. Doing this will not modify any behavior and is safe. When replacing `np.int`, you may wish to use e.g. `np.int64` or `np.int32` to specify the precision. If you wish to review your current use, check the release note link for additional information.\n",
            "Deprecated in NumPy 1.20; for more details and guidance: https://numpy.org/devdocs/release/1.20.0-notes.html#deprecations\n",
            "  \n"
          ]
        }
      ]
    },
    {
      "cell_type": "markdown",
      "metadata": {
        "id": "0WzmzXvNBEHm"
      },
      "source": [
        "## Task 3: Apply z-score normalization (standard scaling) on original X_train and X_test data without sklearn\n",
        "#### Note: don't do it for the first column as it is the column of ones\n",
        "#### use the parameters learnt from the training data to transform the test data\n",
        "#### optionally try doing it also with sklearn"
      ]
    },
    {
      "cell_type": "code",
      "execution_count": null,
      "metadata": {
        "id": "_W4pCFUGBEHn"
      },
      "outputs": [],
      "source": [
        "X_train_copy = X_train.copy()\n",
        "X_test_copy = X_test.copy()\n",
        "\n",
        "for i in range(1, X_train_copy.shape[1]):\n",
        "    mean = X_train_copy[:,i].mean()\n",
        "    std = X_train_copy[:,i].std()\n",
        "    X_train_copy[:,i] = (X_train_copy[:,i] - mean) / std\n",
        "    X_test_copy[:,i] = (X_test_copy[:,i] - mean) / std"
      ]
    },
    {
      "cell_type": "markdown",
      "metadata": {
        "id": "CdCndpkgBEHn"
      },
      "source": [
        "## Task4: Run gradient descent using the scaled dataset and see the results\n",
        "#### Note: you may change the learning rate or lambda parameters. Don't change the number of iterations to get comparable results\n",
        "### try to get better results than the original ones"
      ]
    },
    {
      "cell_type": "code",
      "execution_count": null,
      "metadata": {
        "id": "4rhesoisBEHn"
      },
      "outputs": [],
      "source": [
        "n_train = X_train_copy.shape[0]\n",
        "w_full, trace_full = logistic_regression(X_train_copy, \n",
        "                                         y_train, \n",
        "                                         num_steps=8000, \n",
        "                                         learning_rate=1e-1, \n",
        "                                         mini_batch_size=n_train, \n",
        "                                         lmbda=0.02,\n",
        "                                         verbose=verbose)\n",
        "\n",
        "\n",
        "w_minibatch, trace_minibatch = logistic_regression(X_train_copy, \n",
        "                                                   y_train, \n",
        "                                                   num_steps=8000, \n",
        "                                                   learning_rate=1e-1,\n",
        "                                                   mini_batch_size=50, \n",
        "                                                   lmbda=0.02,\n",
        "                                                   verbose=verbose)"
      ]
    },
    {
      "cell_type": "code",
      "source": [
        "y_pred_full = predict(X_test_copy, w_full)\n",
        "y_pred_minibatch = predict(X_test_copy, w_minibatch)\n",
        "\n",
        "print('Full batch: accuracy: {:.4f}, f1_score: {:.4f}'\n",
        "      .format(accuracy_score(y_test, y_pred_full), f1_score(y_test, y_pred_full)))\n",
        "print('Mini-batch: accuracy: {:.4f}, f1_score: {:.4f}'\n",
        "      .format(accuracy_score(y_test, y_pred_minibatch), f1_score(y_test, y_pred_minibatch)))"
      ],
      "metadata": {
        "colab": {
          "base_uri": "https://localhost:8080/"
        },
        "id": "o8bLr6OdSg1h",
        "outputId": "1003b08f-9fbc-4dca-a57a-2275d9f12b89"
      },
      "execution_count": null,
      "outputs": [
        {
          "output_type": "stream",
          "name": "stdout",
          "text": [
            "Full batch: accuracy: 0.9883, f1_score: 0.9904\n",
            "Mini-batch: accuracy: 0.9883, f1_score: 0.9904\n"
          ]
        },
        {
          "output_type": "stream",
          "name": "stderr",
          "text": [
            "/usr/local/lib/python3.7/dist-packages/ipykernel_launcher.py:2: DeprecationWarning: `np.int` is a deprecated alias for the builtin `int`. To silence this warning, use `int` by itself. Doing this will not modify any behavior and is safe. When replacing `np.int`, you may wish to use e.g. `np.int64` or `np.int32` to specify the precision. If you wish to review your current use, check the release note link for additional information.\n",
            "Deprecated in NumPy 1.20; for more details and guidance: https://numpy.org/devdocs/release/1.20.0-notes.html#deprecations\n",
            "  \n"
          ]
        }
      ]
    }
  ],
  "metadata": {
    "anaconda-cloud": {},
    "kernelspec": {
      "display_name": "Python 3",
      "language": "python",
      "name": "python3"
    },
    "language_info": {
      "codemirror_mode": {
        "name": "ipython",
        "version": 3
      },
      "file_extension": ".py",
      "mimetype": "text/x-python",
      "name": "python",
      "nbconvert_exporter": "python",
      "pygments_lexer": "ipython3",
      "version": "3.6.7"
    },
    "colab": {
      "name": "feature_scaling.ipynb",
      "provenance": [],
      "collapsed_sections": [],
      "include_colab_link": true
    }
  },
  "nbformat": 4,
  "nbformat_minor": 0
}